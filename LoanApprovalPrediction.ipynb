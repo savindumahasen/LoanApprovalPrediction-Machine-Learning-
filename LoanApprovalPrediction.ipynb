{
 "cells": [
  {
   "cell_type": "markdown",
   "id": "c373ad8f-865c-4e14-9711-713c821965ab",
   "metadata": {},
   "source": [
    "## Loan Approval Prediction"
   ]
  },
  {
   "cell_type": "code",
   "execution_count": 1,
   "id": "8f1658db-4029-4a2a-a8df-1ef7c5f054bd",
   "metadata": {},
   "outputs": [],
   "source": [
    "## import the pandas and numpy library\n",
    "import pandas as pd\n",
    "import numpy as np\n",
    "from sklearn.metrics import accuracy_score, confusion_matrix, classification_report"
   ]
  },
  {
   "cell_type": "code",
   "execution_count": 2,
   "id": "1b0d142d-17fe-407f-965a-0cdd95e6fe06",
   "metadata": {},
   "outputs": [
    {
     "data": {
      "text/html": [
       "<div>\n",
       "<style scoped>\n",
       "    .dataframe tbody tr th:only-of-type {\n",
       "        vertical-align: middle;\n",
       "    }\n",
       "\n",
       "    .dataframe tbody tr th {\n",
       "        vertical-align: top;\n",
       "    }\n",
       "\n",
       "    .dataframe thead th {\n",
       "        text-align: right;\n",
       "    }\n",
       "</style>\n",
       "<table border=\"1\" class=\"dataframe\">\n",
       "  <thead>\n",
       "    <tr style=\"text-align: right;\">\n",
       "      <th></th>\n",
       "      <th>id</th>\n",
       "      <th>person_age</th>\n",
       "      <th>person_income</th>\n",
       "      <th>person_home_ownership</th>\n",
       "      <th>person_emp_length</th>\n",
       "      <th>loan_intent</th>\n",
       "      <th>loan_grade</th>\n",
       "      <th>loan_amnt</th>\n",
       "      <th>loan_int_rate</th>\n",
       "      <th>loan_percent_income</th>\n",
       "      <th>cb_person_default_on_file</th>\n",
       "      <th>cb_person_cred_hist_length</th>\n",
       "      <th>loan_status</th>\n",
       "    </tr>\n",
       "  </thead>\n",
       "  <tbody>\n",
       "    <tr>\n",
       "      <th>0</th>\n",
       "      <td>0</td>\n",
       "      <td>37</td>\n",
       "      <td>35000</td>\n",
       "      <td>RENT</td>\n",
       "      <td>0.0</td>\n",
       "      <td>EDUCATION</td>\n",
       "      <td>B</td>\n",
       "      <td>6000</td>\n",
       "      <td>11.49</td>\n",
       "      <td>0.17</td>\n",
       "      <td>N</td>\n",
       "      <td>14</td>\n",
       "      <td>0</td>\n",
       "    </tr>\n",
       "    <tr>\n",
       "      <th>1</th>\n",
       "      <td>1</td>\n",
       "      <td>22</td>\n",
       "      <td>56000</td>\n",
       "      <td>OWN</td>\n",
       "      <td>6.0</td>\n",
       "      <td>MEDICAL</td>\n",
       "      <td>C</td>\n",
       "      <td>4000</td>\n",
       "      <td>13.35</td>\n",
       "      <td>0.07</td>\n",
       "      <td>N</td>\n",
       "      <td>2</td>\n",
       "      <td>0</td>\n",
       "    </tr>\n",
       "    <tr>\n",
       "      <th>2</th>\n",
       "      <td>2</td>\n",
       "      <td>29</td>\n",
       "      <td>28800</td>\n",
       "      <td>OWN</td>\n",
       "      <td>8.0</td>\n",
       "      <td>PERSONAL</td>\n",
       "      <td>A</td>\n",
       "      <td>6000</td>\n",
       "      <td>8.90</td>\n",
       "      <td>0.21</td>\n",
       "      <td>N</td>\n",
       "      <td>10</td>\n",
       "      <td>0</td>\n",
       "    </tr>\n",
       "    <tr>\n",
       "      <th>3</th>\n",
       "      <td>3</td>\n",
       "      <td>30</td>\n",
       "      <td>70000</td>\n",
       "      <td>RENT</td>\n",
       "      <td>14.0</td>\n",
       "      <td>VENTURE</td>\n",
       "      <td>B</td>\n",
       "      <td>12000</td>\n",
       "      <td>11.11</td>\n",
       "      <td>0.17</td>\n",
       "      <td>N</td>\n",
       "      <td>5</td>\n",
       "      <td>0</td>\n",
       "    </tr>\n",
       "    <tr>\n",
       "      <th>4</th>\n",
       "      <td>4</td>\n",
       "      <td>22</td>\n",
       "      <td>60000</td>\n",
       "      <td>RENT</td>\n",
       "      <td>2.0</td>\n",
       "      <td>MEDICAL</td>\n",
       "      <td>A</td>\n",
       "      <td>6000</td>\n",
       "      <td>6.92</td>\n",
       "      <td>0.10</td>\n",
       "      <td>N</td>\n",
       "      <td>3</td>\n",
       "      <td>0</td>\n",
       "    </tr>\n",
       "  </tbody>\n",
       "</table>\n",
       "</div>"
      ],
      "text/plain": [
       "   id  person_age  person_income person_home_ownership  person_emp_length  \\\n",
       "0   0          37          35000                  RENT                0.0   \n",
       "1   1          22          56000                   OWN                6.0   \n",
       "2   2          29          28800                   OWN                8.0   \n",
       "3   3          30          70000                  RENT               14.0   \n",
       "4   4          22          60000                  RENT                2.0   \n",
       "\n",
       "  loan_intent loan_grade  loan_amnt  loan_int_rate  loan_percent_income  \\\n",
       "0   EDUCATION          B       6000          11.49                 0.17   \n",
       "1     MEDICAL          C       4000          13.35                 0.07   \n",
       "2    PERSONAL          A       6000           8.90                 0.21   \n",
       "3     VENTURE          B      12000          11.11                 0.17   \n",
       "4     MEDICAL          A       6000           6.92                 0.10   \n",
       "\n",
       "  cb_person_default_on_file  cb_person_cred_hist_length  loan_status  \n",
       "0                         N                          14            0  \n",
       "1                         N                           2            0  \n",
       "2                         N                          10            0  \n",
       "3                         N                           5            0  \n",
       "4                         N                           3            0  "
      ]
     },
     "execution_count": 2,
     "metadata": {},
     "output_type": "execute_result"
    }
   ],
   "source": [
    "## Import and read the first five records of the train data set\n",
    "train_data_set = pd.read_csv(\"train.csv\")\n",
    "train_data_set.head()"
   ]
  },
  {
   "cell_type": "code",
   "execution_count": 3,
   "id": "687b09f4-a9d6-4428-8d52-331cb8c74e1b",
   "metadata": {},
   "outputs": [],
   "source": [
    "## import and read the first five records of the test data set "
   ]
  },
  {
   "cell_type": "code",
   "execution_count": 4,
   "id": "30e29c66-383d-4020-91a3-915571330c03",
   "metadata": {},
   "outputs": [
    {
     "data": {
      "text/html": [
       "<div>\n",
       "<style scoped>\n",
       "    .dataframe tbody tr th:only-of-type {\n",
       "        vertical-align: middle;\n",
       "    }\n",
       "\n",
       "    .dataframe tbody tr th {\n",
       "        vertical-align: top;\n",
       "    }\n",
       "\n",
       "    .dataframe thead th {\n",
       "        text-align: right;\n",
       "    }\n",
       "</style>\n",
       "<table border=\"1\" class=\"dataframe\">\n",
       "  <thead>\n",
       "    <tr style=\"text-align: right;\">\n",
       "      <th></th>\n",
       "      <th>id</th>\n",
       "      <th>person_age</th>\n",
       "      <th>person_income</th>\n",
       "      <th>person_home_ownership</th>\n",
       "      <th>person_emp_length</th>\n",
       "      <th>loan_intent</th>\n",
       "      <th>loan_grade</th>\n",
       "      <th>loan_amnt</th>\n",
       "      <th>loan_int_rate</th>\n",
       "      <th>loan_percent_income</th>\n",
       "      <th>cb_person_default_on_file</th>\n",
       "      <th>cb_person_cred_hist_length</th>\n",
       "    </tr>\n",
       "  </thead>\n",
       "  <tbody>\n",
       "    <tr>\n",
       "      <th>0</th>\n",
       "      <td>58645</td>\n",
       "      <td>23</td>\n",
       "      <td>69000</td>\n",
       "      <td>RENT</td>\n",
       "      <td>3.0</td>\n",
       "      <td>HOMEIMPROVEMENT</td>\n",
       "      <td>F</td>\n",
       "      <td>25000</td>\n",
       "      <td>15.76</td>\n",
       "      <td>0.36</td>\n",
       "      <td>N</td>\n",
       "      <td>2</td>\n",
       "    </tr>\n",
       "    <tr>\n",
       "      <th>1</th>\n",
       "      <td>58646</td>\n",
       "      <td>26</td>\n",
       "      <td>96000</td>\n",
       "      <td>MORTGAGE</td>\n",
       "      <td>6.0</td>\n",
       "      <td>PERSONAL</td>\n",
       "      <td>C</td>\n",
       "      <td>10000</td>\n",
       "      <td>12.68</td>\n",
       "      <td>0.10</td>\n",
       "      <td>Y</td>\n",
       "      <td>4</td>\n",
       "    </tr>\n",
       "    <tr>\n",
       "      <th>2</th>\n",
       "      <td>58647</td>\n",
       "      <td>26</td>\n",
       "      <td>30000</td>\n",
       "      <td>RENT</td>\n",
       "      <td>5.0</td>\n",
       "      <td>VENTURE</td>\n",
       "      <td>E</td>\n",
       "      <td>4000</td>\n",
       "      <td>17.19</td>\n",
       "      <td>0.13</td>\n",
       "      <td>Y</td>\n",
       "      <td>2</td>\n",
       "    </tr>\n",
       "    <tr>\n",
       "      <th>3</th>\n",
       "      <td>58648</td>\n",
       "      <td>33</td>\n",
       "      <td>50000</td>\n",
       "      <td>RENT</td>\n",
       "      <td>4.0</td>\n",
       "      <td>DEBTCONSOLIDATION</td>\n",
       "      <td>A</td>\n",
       "      <td>7000</td>\n",
       "      <td>8.90</td>\n",
       "      <td>0.14</td>\n",
       "      <td>N</td>\n",
       "      <td>7</td>\n",
       "    </tr>\n",
       "    <tr>\n",
       "      <th>4</th>\n",
       "      <td>58649</td>\n",
       "      <td>26</td>\n",
       "      <td>102000</td>\n",
       "      <td>MORTGAGE</td>\n",
       "      <td>8.0</td>\n",
       "      <td>HOMEIMPROVEMENT</td>\n",
       "      <td>D</td>\n",
       "      <td>15000</td>\n",
       "      <td>16.32</td>\n",
       "      <td>0.15</td>\n",
       "      <td>Y</td>\n",
       "      <td>4</td>\n",
       "    </tr>\n",
       "  </tbody>\n",
       "</table>\n",
       "</div>"
      ],
      "text/plain": [
       "      id  person_age  person_income person_home_ownership  person_emp_length  \\\n",
       "0  58645          23          69000                  RENT                3.0   \n",
       "1  58646          26          96000              MORTGAGE                6.0   \n",
       "2  58647          26          30000                  RENT                5.0   \n",
       "3  58648          33          50000                  RENT                4.0   \n",
       "4  58649          26         102000              MORTGAGE                8.0   \n",
       "\n",
       "         loan_intent loan_grade  loan_amnt  loan_int_rate  \\\n",
       "0    HOMEIMPROVEMENT          F      25000          15.76   \n",
       "1           PERSONAL          C      10000          12.68   \n",
       "2            VENTURE          E       4000          17.19   \n",
       "3  DEBTCONSOLIDATION          A       7000           8.90   \n",
       "4    HOMEIMPROVEMENT          D      15000          16.32   \n",
       "\n",
       "   loan_percent_income cb_person_default_on_file  cb_person_cred_hist_length  \n",
       "0                 0.36                         N                           2  \n",
       "1                 0.10                         Y                           4  \n",
       "2                 0.13                         Y                           2  \n",
       "3                 0.14                         N                           7  \n",
       "4                 0.15                         Y                           4  "
      ]
     },
     "execution_count": 4,
     "metadata": {},
     "output_type": "execute_result"
    }
   ],
   "source": [
    "test_data_set = pd.read_csv(\"test.csv\")\n",
    "test_data_set.head()"
   ]
  },
  {
   "cell_type": "code",
   "execution_count": 5,
   "id": "b2d031d3-9994-48f4-97ee-ac4fa50c0d89",
   "metadata": {},
   "outputs": [],
   "source": [
    "## Get the informattion about the train dataset"
   ]
  },
  {
   "cell_type": "code",
   "execution_count": 6,
   "id": "bebff50c-e8e1-4290-b4d8-6d35b0297667",
   "metadata": {},
   "outputs": [
    {
     "name": "stdout",
     "output_type": "stream",
     "text": [
      "<class 'pandas.core.frame.DataFrame'>\n",
      "RangeIndex: 58645 entries, 0 to 58644\n",
      "Data columns (total 13 columns):\n",
      " #   Column                      Non-Null Count  Dtype  \n",
      "---  ------                      --------------  -----  \n",
      " 0   id                          58645 non-null  int64  \n",
      " 1   person_age                  58645 non-null  int64  \n",
      " 2   person_income               58645 non-null  int64  \n",
      " 3   person_home_ownership       58645 non-null  object \n",
      " 4   person_emp_length           58645 non-null  float64\n",
      " 5   loan_intent                 58645 non-null  object \n",
      " 6   loan_grade                  58645 non-null  object \n",
      " 7   loan_amnt                   58645 non-null  int64  \n",
      " 8   loan_int_rate               58645 non-null  float64\n",
      " 9   loan_percent_income         58645 non-null  float64\n",
      " 10  cb_person_default_on_file   58645 non-null  object \n",
      " 11  cb_person_cred_hist_length  58645 non-null  int64  \n",
      " 12  loan_status                 58645 non-null  int64  \n",
      "dtypes: float64(3), int64(6), object(4)\n",
      "memory usage: 5.8+ MB\n"
     ]
    }
   ],
   "source": [
    "train_data_set.info()"
   ]
  },
  {
   "cell_type": "code",
   "execution_count": 7,
   "id": "d33cfe97-d355-43b0-94fb-b07f033b162a",
   "metadata": {},
   "outputs": [],
   "source": [
    "## check the value counts of the target variable"
   ]
  },
  {
   "cell_type": "code",
   "execution_count": 8,
   "id": "b0601e7c-32fa-4a73-a9c3-87f115f01403",
   "metadata": {},
   "outputs": [
    {
     "data": {
      "text/plain": [
       "loan_status\n",
       "0    50295\n",
       "1     8350\n",
       "Name: count, dtype: int64"
      ]
     },
     "execution_count": 8,
     "metadata": {},
     "output_type": "execute_result"
    }
   ],
   "source": [
    "train_data_set['loan_status'].value_counts()"
   ]
  },
  {
   "cell_type": "code",
   "execution_count": 9,
   "id": "54beb55e-795d-44ca-ad93-5e94bc0f3872",
   "metadata": {},
   "outputs": [],
   "source": [
    "## Get the summary statistics of the dataset"
   ]
  },
  {
   "cell_type": "code",
   "execution_count": 10,
   "id": "5fc238b2-69b0-424d-b4fb-c03165e9d64c",
   "metadata": {},
   "outputs": [
    {
     "data": {
      "text/html": [
       "<div>\n",
       "<style scoped>\n",
       "    .dataframe tbody tr th:only-of-type {\n",
       "        vertical-align: middle;\n",
       "    }\n",
       "\n",
       "    .dataframe tbody tr th {\n",
       "        vertical-align: top;\n",
       "    }\n",
       "\n",
       "    .dataframe thead th {\n",
       "        text-align: right;\n",
       "    }\n",
       "</style>\n",
       "<table border=\"1\" class=\"dataframe\">\n",
       "  <thead>\n",
       "    <tr style=\"text-align: right;\">\n",
       "      <th></th>\n",
       "      <th>id</th>\n",
       "      <th>person_age</th>\n",
       "      <th>person_income</th>\n",
       "      <th>person_emp_length</th>\n",
       "      <th>loan_amnt</th>\n",
       "      <th>loan_int_rate</th>\n",
       "      <th>loan_percent_income</th>\n",
       "      <th>cb_person_cred_hist_length</th>\n",
       "      <th>loan_status</th>\n",
       "    </tr>\n",
       "  </thead>\n",
       "  <tbody>\n",
       "    <tr>\n",
       "      <th>count</th>\n",
       "      <td>58645.000000</td>\n",
       "      <td>58645.000000</td>\n",
       "      <td>5.864500e+04</td>\n",
       "      <td>58645.000000</td>\n",
       "      <td>58645.000000</td>\n",
       "      <td>58645.000000</td>\n",
       "      <td>58645.000000</td>\n",
       "      <td>58645.000000</td>\n",
       "      <td>58645.000000</td>\n",
       "    </tr>\n",
       "    <tr>\n",
       "      <th>mean</th>\n",
       "      <td>29322.000000</td>\n",
       "      <td>27.550857</td>\n",
       "      <td>6.404617e+04</td>\n",
       "      <td>4.701015</td>\n",
       "      <td>9217.556518</td>\n",
       "      <td>10.677874</td>\n",
       "      <td>0.159238</td>\n",
       "      <td>5.813556</td>\n",
       "      <td>0.142382</td>\n",
       "    </tr>\n",
       "    <tr>\n",
       "      <th>std</th>\n",
       "      <td>16929.497605</td>\n",
       "      <td>6.033216</td>\n",
       "      <td>3.793111e+04</td>\n",
       "      <td>3.959784</td>\n",
       "      <td>5563.807384</td>\n",
       "      <td>3.034697</td>\n",
       "      <td>0.091692</td>\n",
       "      <td>4.029196</td>\n",
       "      <td>0.349445</td>\n",
       "    </tr>\n",
       "    <tr>\n",
       "      <th>min</th>\n",
       "      <td>0.000000</td>\n",
       "      <td>20.000000</td>\n",
       "      <td>4.200000e+03</td>\n",
       "      <td>0.000000</td>\n",
       "      <td>500.000000</td>\n",
       "      <td>5.420000</td>\n",
       "      <td>0.000000</td>\n",
       "      <td>2.000000</td>\n",
       "      <td>0.000000</td>\n",
       "    </tr>\n",
       "    <tr>\n",
       "      <th>25%</th>\n",
       "      <td>14661.000000</td>\n",
       "      <td>23.000000</td>\n",
       "      <td>4.200000e+04</td>\n",
       "      <td>2.000000</td>\n",
       "      <td>5000.000000</td>\n",
       "      <td>7.880000</td>\n",
       "      <td>0.090000</td>\n",
       "      <td>3.000000</td>\n",
       "      <td>0.000000</td>\n",
       "    </tr>\n",
       "    <tr>\n",
       "      <th>50%</th>\n",
       "      <td>29322.000000</td>\n",
       "      <td>26.000000</td>\n",
       "      <td>5.800000e+04</td>\n",
       "      <td>4.000000</td>\n",
       "      <td>8000.000000</td>\n",
       "      <td>10.750000</td>\n",
       "      <td>0.140000</td>\n",
       "      <td>4.000000</td>\n",
       "      <td>0.000000</td>\n",
       "    </tr>\n",
       "    <tr>\n",
       "      <th>75%</th>\n",
       "      <td>43983.000000</td>\n",
       "      <td>30.000000</td>\n",
       "      <td>7.560000e+04</td>\n",
       "      <td>7.000000</td>\n",
       "      <td>12000.000000</td>\n",
       "      <td>12.990000</td>\n",
       "      <td>0.210000</td>\n",
       "      <td>8.000000</td>\n",
       "      <td>0.000000</td>\n",
       "    </tr>\n",
       "    <tr>\n",
       "      <th>max</th>\n",
       "      <td>58644.000000</td>\n",
       "      <td>123.000000</td>\n",
       "      <td>1.900000e+06</td>\n",
       "      <td>123.000000</td>\n",
       "      <td>35000.000000</td>\n",
       "      <td>23.220000</td>\n",
       "      <td>0.830000</td>\n",
       "      <td>30.000000</td>\n",
       "      <td>1.000000</td>\n",
       "    </tr>\n",
       "  </tbody>\n",
       "</table>\n",
       "</div>"
      ],
      "text/plain": [
       "                 id    person_age  person_income  person_emp_length  \\\n",
       "count  58645.000000  58645.000000   5.864500e+04       58645.000000   \n",
       "mean   29322.000000     27.550857   6.404617e+04           4.701015   \n",
       "std    16929.497605      6.033216   3.793111e+04           3.959784   \n",
       "min        0.000000     20.000000   4.200000e+03           0.000000   \n",
       "25%    14661.000000     23.000000   4.200000e+04           2.000000   \n",
       "50%    29322.000000     26.000000   5.800000e+04           4.000000   \n",
       "75%    43983.000000     30.000000   7.560000e+04           7.000000   \n",
       "max    58644.000000    123.000000   1.900000e+06         123.000000   \n",
       "\n",
       "          loan_amnt  loan_int_rate  loan_percent_income  \\\n",
       "count  58645.000000   58645.000000         58645.000000   \n",
       "mean    9217.556518      10.677874             0.159238   \n",
       "std     5563.807384       3.034697             0.091692   \n",
       "min      500.000000       5.420000             0.000000   \n",
       "25%     5000.000000       7.880000             0.090000   \n",
       "50%     8000.000000      10.750000             0.140000   \n",
       "75%    12000.000000      12.990000             0.210000   \n",
       "max    35000.000000      23.220000             0.830000   \n",
       "\n",
       "       cb_person_cred_hist_length   loan_status  \n",
       "count                58645.000000  58645.000000  \n",
       "mean                     5.813556      0.142382  \n",
       "std                      4.029196      0.349445  \n",
       "min                      2.000000      0.000000  \n",
       "25%                      3.000000      0.000000  \n",
       "50%                      4.000000      0.000000  \n",
       "75%                      8.000000      0.000000  \n",
       "max                     30.000000      1.000000  "
      ]
     },
     "execution_count": 10,
     "metadata": {},
     "output_type": "execute_result"
    }
   ],
   "source": [
    "train_data_set.describe()"
   ]
  },
  {
   "cell_type": "markdown",
   "id": "0b52d33b-1e14-4948-943a-8249607578d7",
   "metadata": {},
   "source": [
    "## Explotary Data Analysis (EDA) for training dataset"
   ]
  },
  {
   "cell_type": "code",
   "execution_count": 11,
   "id": "49d25bc9-32a0-4fec-bc43-fe146e1c05aa",
   "metadata": {},
   "outputs": [
    {
     "name": "stdout",
     "output_type": "stream",
     "text": [
      "<class 'pandas.core.frame.DataFrame'>\n",
      "RangeIndex: 58645 entries, 0 to 58644\n",
      "Data columns (total 13 columns):\n",
      " #   Column                      Non-Null Count  Dtype  \n",
      "---  ------                      --------------  -----  \n",
      " 0   id                          58645 non-null  int64  \n",
      " 1   person_age                  58645 non-null  int64  \n",
      " 2   person_income               58645 non-null  int64  \n",
      " 3   person_home_ownership       58645 non-null  object \n",
      " 4   person_emp_length           58645 non-null  float64\n",
      " 5   loan_intent                 58645 non-null  object \n",
      " 6   loan_grade                  58645 non-null  object \n",
      " 7   loan_amnt                   58645 non-null  int64  \n",
      " 8   loan_int_rate               58645 non-null  float64\n",
      " 9   loan_percent_income         58645 non-null  float64\n",
      " 10  cb_person_default_on_file   58645 non-null  object \n",
      " 11  cb_person_cred_hist_length  58645 non-null  int64  \n",
      " 12  loan_status                 58645 non-null  int64  \n",
      "dtypes: float64(3), int64(6), object(4)\n",
      "memory usage: 5.8+ MB\n"
     ]
    }
   ],
   "source": [
    "train_data_set.info()"
   ]
  },
  {
   "cell_type": "code",
   "execution_count": 12,
   "id": "5d7e9e64-e33b-4232-9cac-dc6ba83d5924",
   "metadata": {},
   "outputs": [
    {
     "data": {
      "text/plain": [
       "person_home_ownership\n",
       "RENT        30594\n",
       "MORTGAGE    24824\n",
       "OWN          3138\n",
       "OTHER          89\n",
       "Name: count, dtype: int64"
      ]
     },
     "execution_count": 12,
     "metadata": {},
     "output_type": "execute_result"
    }
   ],
   "source": [
    "train_data_set['person_home_ownership'].value_counts()"
   ]
  },
  {
   "cell_type": "code",
   "execution_count": 13,
   "id": "2f0080b4-d49e-4e9a-98ed-7e55c32cc11a",
   "metadata": {},
   "outputs": [
    {
     "data": {
      "text/plain": [
       "loan_intent\n",
       "EDUCATION            12271\n",
       "MEDICAL              10934\n",
       "PERSONAL             10016\n",
       "VENTURE              10011\n",
       "DEBTCONSOLIDATION     9133\n",
       "HOMEIMPROVEMENT       6280\n",
       "Name: count, dtype: int64"
      ]
     },
     "execution_count": 13,
     "metadata": {},
     "output_type": "execute_result"
    }
   ],
   "source": [
    "train_data_set['loan_intent'].value_counts()"
   ]
  },
  {
   "cell_type": "code",
   "execution_count": 14,
   "id": "d089db6d-bba2-449b-9ff6-2e712aaaf644",
   "metadata": {},
   "outputs": [
    {
     "data": {
      "text/plain": [
       "loan_grade\n",
       "A    20984\n",
       "B    20400\n",
       "C    11036\n",
       "D     5034\n",
       "E     1009\n",
       "F      149\n",
       "G       33\n",
       "Name: count, dtype: int64"
      ]
     },
     "execution_count": 14,
     "metadata": {},
     "output_type": "execute_result"
    }
   ],
   "source": [
    "train_data_set['loan_grade'].value_counts()"
   ]
  },
  {
   "cell_type": "code",
   "execution_count": 15,
   "id": "536404ad-5e0e-4c80-8728-8bb625e987b1",
   "metadata": {},
   "outputs": [
    {
     "data": {
      "text/plain": [
       "cb_person_default_on_file\n",
       "N    49943\n",
       "Y     8702\n",
       "Name: count, dtype: int64"
      ]
     },
     "execution_count": 15,
     "metadata": {},
     "output_type": "execute_result"
    }
   ],
   "source": [
    "train_data_set['cb_person_default_on_file'].value_counts()"
   ]
  },
  {
   "cell_type": "code",
   "execution_count": 16,
   "id": "95ae96bd-eadd-4b79-9e66-1799306b88ef",
   "metadata": {},
   "outputs": [],
   "source": [
    "## Data Preprcoessing"
   ]
  },
  {
   "cell_type": "code",
   "execution_count": 17,
   "id": "c4517d3e-d3bb-4400-9dec-d169b60a9671",
   "metadata": {},
   "outputs": [],
   "source": [
    "## when we consider the training set you can see categorical text oriented variables are there. So the, when we give that kind of features for model training,\n",
    "## we have to convert into numeric values"
   ]
  },
  {
   "cell_type": "code",
   "execution_count": 18,
   "id": "88b99a7a-8afb-4acb-bbd6-27ccc8344273",
   "metadata": {},
   "outputs": [
    {
     "data": {
      "text/html": [
       "<div>\n",
       "<style scoped>\n",
       "    .dataframe tbody tr th:only-of-type {\n",
       "        vertical-align: middle;\n",
       "    }\n",
       "\n",
       "    .dataframe tbody tr th {\n",
       "        vertical-align: top;\n",
       "    }\n",
       "\n",
       "    .dataframe thead th {\n",
       "        text-align: right;\n",
       "    }\n",
       "</style>\n",
       "<table border=\"1\" class=\"dataframe\">\n",
       "  <thead>\n",
       "    <tr style=\"text-align: right;\">\n",
       "      <th></th>\n",
       "      <th>id</th>\n",
       "      <th>person_age</th>\n",
       "      <th>person_income</th>\n",
       "      <th>person_home_ownership</th>\n",
       "      <th>person_emp_length</th>\n",
       "      <th>loan_intent</th>\n",
       "      <th>loan_grade</th>\n",
       "      <th>loan_amnt</th>\n",
       "      <th>loan_int_rate</th>\n",
       "      <th>loan_percent_income</th>\n",
       "      <th>cb_person_default_on_file</th>\n",
       "      <th>cb_person_cred_hist_length</th>\n",
       "      <th>loan_status</th>\n",
       "    </tr>\n",
       "  </thead>\n",
       "  <tbody>\n",
       "    <tr>\n",
       "      <th>0</th>\n",
       "      <td>0</td>\n",
       "      <td>37</td>\n",
       "      <td>35000</td>\n",
       "      <td>0</td>\n",
       "      <td>0.0</td>\n",
       "      <td>1</td>\n",
       "      <td>2</td>\n",
       "      <td>6000</td>\n",
       "      <td>11.49</td>\n",
       "      <td>0.17</td>\n",
       "      <td>0</td>\n",
       "      <td>14</td>\n",
       "      <td>0</td>\n",
       "    </tr>\n",
       "    <tr>\n",
       "      <th>1</th>\n",
       "      <td>1</td>\n",
       "      <td>22</td>\n",
       "      <td>56000</td>\n",
       "      <td>3</td>\n",
       "      <td>6.0</td>\n",
       "      <td>2</td>\n",
       "      <td>3</td>\n",
       "      <td>4000</td>\n",
       "      <td>13.35</td>\n",
       "      <td>0.07</td>\n",
       "      <td>0</td>\n",
       "      <td>2</td>\n",
       "      <td>0</td>\n",
       "    </tr>\n",
       "    <tr>\n",
       "      <th>2</th>\n",
       "      <td>2</td>\n",
       "      <td>29</td>\n",
       "      <td>28800</td>\n",
       "      <td>3</td>\n",
       "      <td>8.0</td>\n",
       "      <td>3</td>\n",
       "      <td>1</td>\n",
       "      <td>6000</td>\n",
       "      <td>8.90</td>\n",
       "      <td>0.21</td>\n",
       "      <td>0</td>\n",
       "      <td>10</td>\n",
       "      <td>0</td>\n",
       "    </tr>\n",
       "    <tr>\n",
       "      <th>3</th>\n",
       "      <td>3</td>\n",
       "      <td>30</td>\n",
       "      <td>70000</td>\n",
       "      <td>0</td>\n",
       "      <td>14.0</td>\n",
       "      <td>4</td>\n",
       "      <td>2</td>\n",
       "      <td>12000</td>\n",
       "      <td>11.11</td>\n",
       "      <td>0.17</td>\n",
       "      <td>0</td>\n",
       "      <td>5</td>\n",
       "      <td>0</td>\n",
       "    </tr>\n",
       "    <tr>\n",
       "      <th>4</th>\n",
       "      <td>4</td>\n",
       "      <td>22</td>\n",
       "      <td>60000</td>\n",
       "      <td>0</td>\n",
       "      <td>2.0</td>\n",
       "      <td>2</td>\n",
       "      <td>1</td>\n",
       "      <td>6000</td>\n",
       "      <td>6.92</td>\n",
       "      <td>0.10</td>\n",
       "      <td>0</td>\n",
       "      <td>3</td>\n",
       "      <td>0</td>\n",
       "    </tr>\n",
       "  </tbody>\n",
       "</table>\n",
       "</div>"
      ],
      "text/plain": [
       "   id  person_age  person_income  person_home_ownership  person_emp_length  \\\n",
       "0   0          37          35000                      0                0.0   \n",
       "1   1          22          56000                      3                6.0   \n",
       "2   2          29          28800                      3                8.0   \n",
       "3   3          30          70000                      0               14.0   \n",
       "4   4          22          60000                      0                2.0   \n",
       "\n",
       "   loan_intent  loan_grade  loan_amnt  loan_int_rate  loan_percent_income  \\\n",
       "0            1           2       6000          11.49                 0.17   \n",
       "1            2           3       4000          13.35                 0.07   \n",
       "2            3           1       6000           8.90                 0.21   \n",
       "3            4           2      12000          11.11                 0.17   \n",
       "4            2           1       6000           6.92                 0.10   \n",
       "\n",
       "   cb_person_default_on_file  cb_person_cred_hist_length  loan_status  \n",
       "0                          0                          14            0  \n",
       "1                          0                           2            0  \n",
       "2                          0                          10            0  \n",
       "3                          0                           5            0  \n",
       "4                          0                           3            0  "
      ]
     },
     "execution_count": 18,
     "metadata": {},
     "output_type": "execute_result"
    }
   ],
   "source": [
    "train_data_set_new=train_data_set.replace({'person_home_ownership' :{'RENT':0, 'MORTGAGE':2, 'OWN':3,'OTHER':4}, \n",
    "                   'loan_intent':{'EDUCATION':1, 'MEDICAL':2,'PERSONAL':3, 'VENTURE':4,'DEBTCONSOLIDATION':5, 'HOMEIMPROVEMENT':6},\n",
    "                   'loan_grade':{'A':1,'B':2,'C':3,'D':4,'E':5,'F':6,'G':7}, 'cb_person_default_on_file':{'N':0,'Y':1}})\n",
    "train_data_set_new.head()"
   ]
  },
  {
   "cell_type": "code",
   "execution_count": 19,
   "id": "9048cbf3-1859-4f65-a622-144a3e997c56",
   "metadata": {},
   "outputs": [],
   "source": [
    "## Plot the training dataset based on loan_status  using scatterplots"
   ]
  },
  {
   "cell_type": "code",
   "execution_count": 20,
   "id": "8321414b-0848-4a3c-9d77-fb97cb61d85b",
   "metadata": {},
   "outputs": [],
   "source": [
    "#import seaborn as sns\n",
    "\n",
    "#sns.pairplot(train_data_set_new, hue=\"loan_status\")"
   ]
  },
  {
   "cell_type": "code",
   "execution_count": 21,
   "id": "442d56b6-9da0-4b67-83bb-6e211cd3b46d",
   "metadata": {},
   "outputs": [],
   "source": [
    "## check the correlational coefficiancy between dependent variable and independent variables"
   ]
  },
  {
   "cell_type": "code",
   "execution_count": 22,
   "id": "8034bdf3-73ad-4e4f-b701-641b4b87ee23",
   "metadata": {},
   "outputs": [],
   "source": [
    "train_set_new_corr = train_data_set_new.corr()"
   ]
  },
  {
   "cell_type": "code",
   "execution_count": 23,
   "id": "0be2fee5-f790-4b6b-9e21-3e2a164f2205",
   "metadata": {},
   "outputs": [
    {
     "data": {
      "text/html": [
       "<div>\n",
       "<style scoped>\n",
       "    .dataframe tbody tr th:only-of-type {\n",
       "        vertical-align: middle;\n",
       "    }\n",
       "\n",
       "    .dataframe tbody tr th {\n",
       "        vertical-align: top;\n",
       "    }\n",
       "\n",
       "    .dataframe thead th {\n",
       "        text-align: right;\n",
       "    }\n",
       "</style>\n",
       "<table border=\"1\" class=\"dataframe\">\n",
       "  <thead>\n",
       "    <tr style=\"text-align: right;\">\n",
       "      <th></th>\n",
       "      <th>id</th>\n",
       "      <th>person_age</th>\n",
       "      <th>person_income</th>\n",
       "      <th>person_home_ownership</th>\n",
       "      <th>person_emp_length</th>\n",
       "      <th>loan_intent</th>\n",
       "      <th>loan_grade</th>\n",
       "      <th>loan_amnt</th>\n",
       "      <th>loan_int_rate</th>\n",
       "      <th>loan_percent_income</th>\n",
       "      <th>cb_person_default_on_file</th>\n",
       "      <th>cb_person_cred_hist_length</th>\n",
       "      <th>loan_status</th>\n",
       "    </tr>\n",
       "  </thead>\n",
       "  <tbody>\n",
       "    <tr>\n",
       "      <th>id</th>\n",
       "      <td>1.000000</td>\n",
       "      <td>0.008608</td>\n",
       "      <td>-0.001896</td>\n",
       "      <td>0.003036</td>\n",
       "      <td>0.005376</td>\n",
       "      <td>-0.004417</td>\n",
       "      <td>-0.002184</td>\n",
       "      <td>-0.000403</td>\n",
       "      <td>-0.003454</td>\n",
       "      <td>-0.002677</td>\n",
       "      <td>-0.001681</td>\n",
       "      <td>0.008139</td>\n",
       "      <td>-0.008138</td>\n",
       "    </tr>\n",
       "    <tr>\n",
       "      <th>person_age</th>\n",
       "      <td>0.008608</td>\n",
       "      <td>1.000000</td>\n",
       "      <td>0.102176</td>\n",
       "      <td>0.049147</td>\n",
       "      <td>0.121276</td>\n",
       "      <td>0.100919</td>\n",
       "      <td>0.016497</td>\n",
       "      <td>0.050378</td>\n",
       "      <td>0.009653</td>\n",
       "      <td>-0.031975</td>\n",
       "      <td>0.004408</td>\n",
       "      <td>0.874260</td>\n",
       "      <td>-0.001130</td>\n",
       "    </tr>\n",
       "    <tr>\n",
       "      <th>person_income</th>\n",
       "      <td>-0.001896</td>\n",
       "      <td>0.102176</td>\n",
       "      <td>1.000000</td>\n",
       "      <td>0.231942</td>\n",
       "      <td>0.164042</td>\n",
       "      <td>0.074045</td>\n",
       "      <td>-0.059279</td>\n",
       "      <td>0.310942</td>\n",
       "      <td>-0.057611</td>\n",
       "      <td>-0.280314</td>\n",
       "      <td>-0.035514</td>\n",
       "      <td>0.082727</td>\n",
       "      <td>-0.169956</td>\n",
       "    </tr>\n",
       "    <tr>\n",
       "      <th>person_home_ownership</th>\n",
       "      <td>0.003036</td>\n",
       "      <td>0.049147</td>\n",
       "      <td>0.231942</td>\n",
       "      <td>1.000000</td>\n",
       "      <td>0.269834</td>\n",
       "      <td>0.055369</td>\n",
       "      <td>-0.166610</td>\n",
       "      <td>0.092894</td>\n",
       "      <td>-0.182281</td>\n",
       "      <td>-0.128426</td>\n",
       "      <td>-0.087478</td>\n",
       "      <td>0.044978</td>\n",
       "      <td>-0.239073</td>\n",
       "    </tr>\n",
       "    <tr>\n",
       "      <th>person_emp_length</th>\n",
       "      <td>0.005376</td>\n",
       "      <td>0.121276</td>\n",
       "      <td>0.164042</td>\n",
       "      <td>0.269834</td>\n",
       "      <td>1.000000</td>\n",
       "      <td>0.048419</td>\n",
       "      <td>-0.091514</td>\n",
       "      <td>0.092046</td>\n",
       "      <td>-0.101910</td>\n",
       "      <td>-0.065824</td>\n",
       "      <td>-0.054467</td>\n",
       "      <td>0.102842</td>\n",
       "      <td>-0.100428</td>\n",
       "    </tr>\n",
       "    <tr>\n",
       "      <th>loan_intent</th>\n",
       "      <td>-0.004417</td>\n",
       "      <td>0.100919</td>\n",
       "      <td>0.074045</td>\n",
       "      <td>0.055369</td>\n",
       "      <td>0.048419</td>\n",
       "      <td>1.000000</td>\n",
       "      <td>0.013440</td>\n",
       "      <td>0.049246</td>\n",
       "      <td>0.003821</td>\n",
       "      <td>-0.016012</td>\n",
       "      <td>0.004162</td>\n",
       "      <td>0.085549</td>\n",
       "      <td>0.041541</td>\n",
       "    </tr>\n",
       "    <tr>\n",
       "      <th>loan_grade</th>\n",
       "      <td>-0.002184</td>\n",
       "      <td>0.016497</td>\n",
       "      <td>-0.059279</td>\n",
       "      <td>-0.166610</td>\n",
       "      <td>-0.091514</td>\n",
       "      <td>0.013440</td>\n",
       "      <td>1.000000</td>\n",
       "      <td>0.113273</td>\n",
       "      <td>0.935837</td>\n",
       "      <td>0.153865</td>\n",
       "      <td>0.550677</td>\n",
       "      <td>0.012276</td>\n",
       "      <td>0.385908</td>\n",
       "    </tr>\n",
       "    <tr>\n",
       "      <th>loan_amnt</th>\n",
       "      <td>-0.000403</td>\n",
       "      <td>0.050378</td>\n",
       "      <td>0.310942</td>\n",
       "      <td>0.092894</td>\n",
       "      <td>0.092046</td>\n",
       "      <td>0.049246</td>\n",
       "      <td>0.113273</td>\n",
       "      <td>1.000000</td>\n",
       "      <td>0.113582</td>\n",
       "      <td>0.647266</td>\n",
       "      <td>0.020271</td>\n",
       "      <td>0.045720</td>\n",
       "      <td>0.144982</td>\n",
       "    </tr>\n",
       "    <tr>\n",
       "      <th>loan_int_rate</th>\n",
       "      <td>-0.003454</td>\n",
       "      <td>0.009653</td>\n",
       "      <td>-0.057611</td>\n",
       "      <td>-0.182281</td>\n",
       "      <td>-0.101910</td>\n",
       "      <td>0.003821</td>\n",
       "      <td>0.935837</td>\n",
       "      <td>0.113582</td>\n",
       "      <td>1.000000</td>\n",
       "      <td>0.152201</td>\n",
       "      <td>0.501841</td>\n",
       "      <td>0.007535</td>\n",
       "      <td>0.338948</td>\n",
       "    </tr>\n",
       "    <tr>\n",
       "      <th>loan_percent_income</th>\n",
       "      <td>-0.002677</td>\n",
       "      <td>-0.031975</td>\n",
       "      <td>-0.280314</td>\n",
       "      <td>-0.128426</td>\n",
       "      <td>-0.065824</td>\n",
       "      <td>-0.016012</td>\n",
       "      <td>0.153865</td>\n",
       "      <td>0.647266</td>\n",
       "      <td>0.152201</td>\n",
       "      <td>1.000000</td>\n",
       "      <td>0.042979</td>\n",
       "      <td>-0.023202</td>\n",
       "      <td>0.378280</td>\n",
       "    </tr>\n",
       "    <tr>\n",
       "      <th>cb_person_default_on_file</th>\n",
       "      <td>-0.001681</td>\n",
       "      <td>0.004408</td>\n",
       "      <td>-0.035514</td>\n",
       "      <td>-0.087478</td>\n",
       "      <td>-0.054467</td>\n",
       "      <td>0.004162</td>\n",
       "      <td>0.550677</td>\n",
       "      <td>0.020271</td>\n",
       "      <td>0.501841</td>\n",
       "      <td>0.042979</td>\n",
       "      <td>1.000000</td>\n",
       "      <td>0.004886</td>\n",
       "      <td>0.186962</td>\n",
       "    </tr>\n",
       "    <tr>\n",
       "      <th>cb_person_cred_hist_length</th>\n",
       "      <td>0.008139</td>\n",
       "      <td>0.874260</td>\n",
       "      <td>0.082727</td>\n",
       "      <td>0.044978</td>\n",
       "      <td>0.102842</td>\n",
       "      <td>0.085549</td>\n",
       "      <td>0.012276</td>\n",
       "      <td>0.045720</td>\n",
       "      <td>0.007535</td>\n",
       "      <td>-0.023202</td>\n",
       "      <td>0.004886</td>\n",
       "      <td>1.000000</td>\n",
       "      <td>-0.003030</td>\n",
       "    </tr>\n",
       "    <tr>\n",
       "      <th>loan_status</th>\n",
       "      <td>-0.008138</td>\n",
       "      <td>-0.001130</td>\n",
       "      <td>-0.169956</td>\n",
       "      <td>-0.239073</td>\n",
       "      <td>-0.100428</td>\n",
       "      <td>0.041541</td>\n",
       "      <td>0.385908</td>\n",
       "      <td>0.144982</td>\n",
       "      <td>0.338948</td>\n",
       "      <td>0.378280</td>\n",
       "      <td>0.186962</td>\n",
       "      <td>-0.003030</td>\n",
       "      <td>1.000000</td>\n",
       "    </tr>\n",
       "  </tbody>\n",
       "</table>\n",
       "</div>"
      ],
      "text/plain": [
       "                                  id  person_age  person_income  \\\n",
       "id                          1.000000    0.008608      -0.001896   \n",
       "person_age                  0.008608    1.000000       0.102176   \n",
       "person_income              -0.001896    0.102176       1.000000   \n",
       "person_home_ownership       0.003036    0.049147       0.231942   \n",
       "person_emp_length           0.005376    0.121276       0.164042   \n",
       "loan_intent                -0.004417    0.100919       0.074045   \n",
       "loan_grade                 -0.002184    0.016497      -0.059279   \n",
       "loan_amnt                  -0.000403    0.050378       0.310942   \n",
       "loan_int_rate              -0.003454    0.009653      -0.057611   \n",
       "loan_percent_income        -0.002677   -0.031975      -0.280314   \n",
       "cb_person_default_on_file  -0.001681    0.004408      -0.035514   \n",
       "cb_person_cred_hist_length  0.008139    0.874260       0.082727   \n",
       "loan_status                -0.008138   -0.001130      -0.169956   \n",
       "\n",
       "                            person_home_ownership  person_emp_length  \\\n",
       "id                                       0.003036           0.005376   \n",
       "person_age                               0.049147           0.121276   \n",
       "person_income                            0.231942           0.164042   \n",
       "person_home_ownership                    1.000000           0.269834   \n",
       "person_emp_length                        0.269834           1.000000   \n",
       "loan_intent                              0.055369           0.048419   \n",
       "loan_grade                              -0.166610          -0.091514   \n",
       "loan_amnt                                0.092894           0.092046   \n",
       "loan_int_rate                           -0.182281          -0.101910   \n",
       "loan_percent_income                     -0.128426          -0.065824   \n",
       "cb_person_default_on_file               -0.087478          -0.054467   \n",
       "cb_person_cred_hist_length               0.044978           0.102842   \n",
       "loan_status                             -0.239073          -0.100428   \n",
       "\n",
       "                            loan_intent  loan_grade  loan_amnt  loan_int_rate  \\\n",
       "id                            -0.004417   -0.002184  -0.000403      -0.003454   \n",
       "person_age                     0.100919    0.016497   0.050378       0.009653   \n",
       "person_income                  0.074045   -0.059279   0.310942      -0.057611   \n",
       "person_home_ownership          0.055369   -0.166610   0.092894      -0.182281   \n",
       "person_emp_length              0.048419   -0.091514   0.092046      -0.101910   \n",
       "loan_intent                    1.000000    0.013440   0.049246       0.003821   \n",
       "loan_grade                     0.013440    1.000000   0.113273       0.935837   \n",
       "loan_amnt                      0.049246    0.113273   1.000000       0.113582   \n",
       "loan_int_rate                  0.003821    0.935837   0.113582       1.000000   \n",
       "loan_percent_income           -0.016012    0.153865   0.647266       0.152201   \n",
       "cb_person_default_on_file      0.004162    0.550677   0.020271       0.501841   \n",
       "cb_person_cred_hist_length     0.085549    0.012276   0.045720       0.007535   \n",
       "loan_status                    0.041541    0.385908   0.144982       0.338948   \n",
       "\n",
       "                            loan_percent_income  cb_person_default_on_file  \\\n",
       "id                                    -0.002677                  -0.001681   \n",
       "person_age                            -0.031975                   0.004408   \n",
       "person_income                         -0.280314                  -0.035514   \n",
       "person_home_ownership                 -0.128426                  -0.087478   \n",
       "person_emp_length                     -0.065824                  -0.054467   \n",
       "loan_intent                           -0.016012                   0.004162   \n",
       "loan_grade                             0.153865                   0.550677   \n",
       "loan_amnt                              0.647266                   0.020271   \n",
       "loan_int_rate                          0.152201                   0.501841   \n",
       "loan_percent_income                    1.000000                   0.042979   \n",
       "cb_person_default_on_file              0.042979                   1.000000   \n",
       "cb_person_cred_hist_length            -0.023202                   0.004886   \n",
       "loan_status                            0.378280                   0.186962   \n",
       "\n",
       "                            cb_person_cred_hist_length  loan_status  \n",
       "id                                            0.008139    -0.008138  \n",
       "person_age                                    0.874260    -0.001130  \n",
       "person_income                                 0.082727    -0.169956  \n",
       "person_home_ownership                         0.044978    -0.239073  \n",
       "person_emp_length                             0.102842    -0.100428  \n",
       "loan_intent                                   0.085549     0.041541  \n",
       "loan_grade                                    0.012276     0.385908  \n",
       "loan_amnt                                     0.045720     0.144982  \n",
       "loan_int_rate                                 0.007535     0.338948  \n",
       "loan_percent_income                          -0.023202     0.378280  \n",
       "cb_person_default_on_file                     0.004886     0.186962  \n",
       "cb_person_cred_hist_length                    1.000000    -0.003030  \n",
       "loan_status                                  -0.003030     1.000000  "
      ]
     },
     "execution_count": 23,
     "metadata": {},
     "output_type": "execute_result"
    }
   ],
   "source": [
    "train_set_new_corr"
   ]
  },
  {
   "cell_type": "code",
   "execution_count": 24,
   "id": "db88d058-f341-41df-95b4-50532b14952d",
   "metadata": {},
   "outputs": [],
   "source": [
    "## check the null values of the train_set_new"
   ]
  },
  {
   "cell_type": "code",
   "execution_count": 26,
   "id": "fee03093-6c11-496d-bb39-fdd0e7689709",
   "metadata": {},
   "outputs": [
    {
     "name": "stdout",
     "output_type": "stream",
     "text": [
      "<class 'pandas.core.frame.DataFrame'>\n",
      "RangeIndex: 58645 entries, 0 to 58644\n",
      "Data columns (total 13 columns):\n",
      " #   Column                      Non-Null Count  Dtype  \n",
      "---  ------                      --------------  -----  \n",
      " 0   id                          58645 non-null  int64  \n",
      " 1   person_age                  58645 non-null  int64  \n",
      " 2   person_income               58645 non-null  int64  \n",
      " 3   person_home_ownership       58645 non-null  int64  \n",
      " 4   person_emp_length           58645 non-null  float64\n",
      " 5   loan_intent                 58645 non-null  int64  \n",
      " 6   loan_grade                  58645 non-null  int64  \n",
      " 7   loan_amnt                   58645 non-null  int64  \n",
      " 8   loan_int_rate               58645 non-null  float64\n",
      " 9   loan_percent_income         58645 non-null  float64\n",
      " 10  cb_person_default_on_file   58645 non-null  int64  \n",
      " 11  cb_person_cred_hist_length  58645 non-null  int64  \n",
      " 12  loan_status                 58645 non-null  int64  \n",
      "dtypes: float64(3), int64(10)\n",
      "memory usage: 5.8 MB\n"
     ]
    }
   ],
   "source": [
    "train_data_set_new.info()"
   ]
  },
  {
   "cell_type": "code",
   "execution_count": null,
   "id": "6ae20543-16e0-489b-a232-bb349a4186ce",
   "metadata": {},
   "outputs": [],
   "source": [
    "## seperate the independent variables and independent variables from train_set"
   ]
  },
  {
   "cell_type": "code",
   "execution_count": 28,
   "id": "ccfec09f-fec2-4811-9151-07fa43320a83",
   "metadata": {},
   "outputs": [
    {
     "data": {
      "text/html": [
       "<div>\n",
       "<style scoped>\n",
       "    .dataframe tbody tr th:only-of-type {\n",
       "        vertical-align: middle;\n",
       "    }\n",
       "\n",
       "    .dataframe tbody tr th {\n",
       "        vertical-align: top;\n",
       "    }\n",
       "\n",
       "    .dataframe thead th {\n",
       "        text-align: right;\n",
       "    }\n",
       "</style>\n",
       "<table border=\"1\" class=\"dataframe\">\n",
       "  <thead>\n",
       "    <tr style=\"text-align: right;\">\n",
       "      <th></th>\n",
       "      <th>id</th>\n",
       "      <th>person_age</th>\n",
       "      <th>person_income</th>\n",
       "      <th>person_home_ownership</th>\n",
       "      <th>person_emp_length</th>\n",
       "      <th>loan_intent</th>\n",
       "      <th>loan_grade</th>\n",
       "      <th>loan_amnt</th>\n",
       "      <th>loan_int_rate</th>\n",
       "      <th>loan_percent_income</th>\n",
       "      <th>cb_person_default_on_file</th>\n",
       "      <th>cb_person_cred_hist_length</th>\n",
       "    </tr>\n",
       "  </thead>\n",
       "  <tbody>\n",
       "    <tr>\n",
       "      <th>0</th>\n",
       "      <td>0</td>\n",
       "      <td>37</td>\n",
       "      <td>35000</td>\n",
       "      <td>0</td>\n",
       "      <td>0.0</td>\n",
       "      <td>1</td>\n",
       "      <td>2</td>\n",
       "      <td>6000</td>\n",
       "      <td>11.49</td>\n",
       "      <td>0.17</td>\n",
       "      <td>0</td>\n",
       "      <td>14</td>\n",
       "    </tr>\n",
       "    <tr>\n",
       "      <th>1</th>\n",
       "      <td>1</td>\n",
       "      <td>22</td>\n",
       "      <td>56000</td>\n",
       "      <td>3</td>\n",
       "      <td>6.0</td>\n",
       "      <td>2</td>\n",
       "      <td>3</td>\n",
       "      <td>4000</td>\n",
       "      <td>13.35</td>\n",
       "      <td>0.07</td>\n",
       "      <td>0</td>\n",
       "      <td>2</td>\n",
       "    </tr>\n",
       "    <tr>\n",
       "      <th>2</th>\n",
       "      <td>2</td>\n",
       "      <td>29</td>\n",
       "      <td>28800</td>\n",
       "      <td>3</td>\n",
       "      <td>8.0</td>\n",
       "      <td>3</td>\n",
       "      <td>1</td>\n",
       "      <td>6000</td>\n",
       "      <td>8.90</td>\n",
       "      <td>0.21</td>\n",
       "      <td>0</td>\n",
       "      <td>10</td>\n",
       "    </tr>\n",
       "    <tr>\n",
       "      <th>3</th>\n",
       "      <td>3</td>\n",
       "      <td>30</td>\n",
       "      <td>70000</td>\n",
       "      <td>0</td>\n",
       "      <td>14.0</td>\n",
       "      <td>4</td>\n",
       "      <td>2</td>\n",
       "      <td>12000</td>\n",
       "      <td>11.11</td>\n",
       "      <td>0.17</td>\n",
       "      <td>0</td>\n",
       "      <td>5</td>\n",
       "    </tr>\n",
       "    <tr>\n",
       "      <th>4</th>\n",
       "      <td>4</td>\n",
       "      <td>22</td>\n",
       "      <td>60000</td>\n",
       "      <td>0</td>\n",
       "      <td>2.0</td>\n",
       "      <td>2</td>\n",
       "      <td>1</td>\n",
       "      <td>6000</td>\n",
       "      <td>6.92</td>\n",
       "      <td>0.10</td>\n",
       "      <td>0</td>\n",
       "      <td>3</td>\n",
       "    </tr>\n",
       "  </tbody>\n",
       "</table>\n",
       "</div>"
      ],
      "text/plain": [
       "   id  person_age  person_income  person_home_ownership  person_emp_length  \\\n",
       "0   0          37          35000                      0                0.0   \n",
       "1   1          22          56000                      3                6.0   \n",
       "2   2          29          28800                      3                8.0   \n",
       "3   3          30          70000                      0               14.0   \n",
       "4   4          22          60000                      0                2.0   \n",
       "\n",
       "   loan_intent  loan_grade  loan_amnt  loan_int_rate  loan_percent_income  \\\n",
       "0            1           2       6000          11.49                 0.17   \n",
       "1            2           3       4000          13.35                 0.07   \n",
       "2            3           1       6000           8.90                 0.21   \n",
       "3            4           2      12000          11.11                 0.17   \n",
       "4            2           1       6000           6.92                 0.10   \n",
       "\n",
       "   cb_person_default_on_file  cb_person_cred_hist_length  \n",
       "0                          0                          14  \n",
       "1                          0                           2  \n",
       "2                          0                          10  \n",
       "3                          0                           5  \n",
       "4                          0                           3  "
      ]
     },
     "execution_count": 28,
     "metadata": {},
     "output_type": "execute_result"
    }
   ],
   "source": [
    "X = train_data_set_new.iloc[:,0:12]\n",
    "X.head()"
   ]
  },
  {
   "cell_type": "code",
   "execution_count": 30,
   "id": "9ed594dc-591a-4b7c-9212-5dc07702566d",
   "metadata": {},
   "outputs": [
    {
     "data": {
      "text/plain": [
       "0    0\n",
       "1    0\n",
       "2    0\n",
       "3    0\n",
       "4    0\n",
       "Name: loan_status, dtype: int64"
      ]
     },
     "execution_count": 30,
     "metadata": {},
     "output_type": "execute_result"
    }
   ],
   "source": [
    "y=train_data_set_new.iloc[:,12]\n",
    "y.head()"
   ]
  },
  {
   "cell_type": "markdown",
   "id": "c239e2a4-d6bf-4c7b-8218-73241e0f6d1f",
   "metadata": {},
   "source": [
    "## Split the training data into training and test set"
   ]
  },
  {
   "cell_type": "code",
   "execution_count": 31,
   "id": "71846c80-2e4e-449d-bf4d-c71c48772e55",
   "metadata": {},
   "outputs": [
    {
     "data": {
      "text/html": [
       "<div>\n",
       "<style scoped>\n",
       "    .dataframe tbody tr th:only-of-type {\n",
       "        vertical-align: middle;\n",
       "    }\n",
       "\n",
       "    .dataframe tbody tr th {\n",
       "        vertical-align: top;\n",
       "    }\n",
       "\n",
       "    .dataframe thead th {\n",
       "        text-align: right;\n",
       "    }\n",
       "</style>\n",
       "<table border=\"1\" class=\"dataframe\">\n",
       "  <thead>\n",
       "    <tr style=\"text-align: right;\">\n",
       "      <th></th>\n",
       "      <th>id</th>\n",
       "      <th>person_age</th>\n",
       "      <th>person_income</th>\n",
       "      <th>person_home_ownership</th>\n",
       "      <th>person_emp_length</th>\n",
       "      <th>loan_intent</th>\n",
       "      <th>loan_grade</th>\n",
       "      <th>loan_amnt</th>\n",
       "      <th>loan_int_rate</th>\n",
       "      <th>loan_percent_income</th>\n",
       "      <th>cb_person_default_on_file</th>\n",
       "      <th>cb_person_cred_hist_length</th>\n",
       "    </tr>\n",
       "  </thead>\n",
       "  <tbody>\n",
       "    <tr>\n",
       "      <th>14337</th>\n",
       "      <td>14337</td>\n",
       "      <td>36</td>\n",
       "      <td>50000</td>\n",
       "      <td>0</td>\n",
       "      <td>0.0</td>\n",
       "      <td>6</td>\n",
       "      <td>3</td>\n",
       "      <td>7200</td>\n",
       "      <td>13.85</td>\n",
       "      <td>0.14</td>\n",
       "      <td>1</td>\n",
       "      <td>15</td>\n",
       "    </tr>\n",
       "    <tr>\n",
       "      <th>17117</th>\n",
       "      <td>17117</td>\n",
       "      <td>27</td>\n",
       "      <td>43200</td>\n",
       "      <td>0</td>\n",
       "      <td>3.0</td>\n",
       "      <td>5</td>\n",
       "      <td>3</td>\n",
       "      <td>5000</td>\n",
       "      <td>11.66</td>\n",
       "      <td>0.12</td>\n",
       "      <td>1</td>\n",
       "      <td>9</td>\n",
       "    </tr>\n",
       "    <tr>\n",
       "      <th>32590</th>\n",
       "      <td>32590</td>\n",
       "      <td>25</td>\n",
       "      <td>70000</td>\n",
       "      <td>2</td>\n",
       "      <td>0.0</td>\n",
       "      <td>1</td>\n",
       "      <td>1</td>\n",
       "      <td>8000</td>\n",
       "      <td>7.88</td>\n",
       "      <td>0.11</td>\n",
       "      <td>0</td>\n",
       "      <td>3</td>\n",
       "    </tr>\n",
       "    <tr>\n",
       "      <th>55811</th>\n",
       "      <td>55811</td>\n",
       "      <td>39</td>\n",
       "      <td>75000</td>\n",
       "      <td>2</td>\n",
       "      <td>2.0</td>\n",
       "      <td>5</td>\n",
       "      <td>1</td>\n",
       "      <td>15000</td>\n",
       "      <td>6.54</td>\n",
       "      <td>0.20</td>\n",
       "      <td>0</td>\n",
       "      <td>11</td>\n",
       "    </tr>\n",
       "    <tr>\n",
       "      <th>40120</th>\n",
       "      <td>40120</td>\n",
       "      <td>22</td>\n",
       "      <td>45600</td>\n",
       "      <td>0</td>\n",
       "      <td>5.0</td>\n",
       "      <td>2</td>\n",
       "      <td>1</td>\n",
       "      <td>4000</td>\n",
       "      <td>7.66</td>\n",
       "      <td>0.09</td>\n",
       "      <td>0</td>\n",
       "      <td>2</td>\n",
       "    </tr>\n",
       "  </tbody>\n",
       "</table>\n",
       "</div>"
      ],
      "text/plain": [
       "          id  person_age  person_income  person_home_ownership  \\\n",
       "14337  14337          36          50000                      0   \n",
       "17117  17117          27          43200                      0   \n",
       "32590  32590          25          70000                      2   \n",
       "55811  55811          39          75000                      2   \n",
       "40120  40120          22          45600                      0   \n",
       "\n",
       "       person_emp_length  loan_intent  loan_grade  loan_amnt  loan_int_rate  \\\n",
       "14337                0.0            6           3       7200          13.85   \n",
       "17117                3.0            5           3       5000          11.66   \n",
       "32590                0.0            1           1       8000           7.88   \n",
       "55811                2.0            5           1      15000           6.54   \n",
       "40120                5.0            2           1       4000           7.66   \n",
       "\n",
       "       loan_percent_income  cb_person_default_on_file  \\\n",
       "14337                 0.14                          1   \n",
       "17117                 0.12                          1   \n",
       "32590                 0.11                          0   \n",
       "55811                 0.20                          0   \n",
       "40120                 0.09                          0   \n",
       "\n",
       "       cb_person_cred_hist_length  \n",
       "14337                          15  \n",
       "17117                           9  \n",
       "32590                           3  \n",
       "55811                          11  \n",
       "40120                           2  "
      ]
     },
     "execution_count": 31,
     "metadata": {},
     "output_type": "execute_result"
    }
   ],
   "source": [
    "from sklearn.model_selection import train_test_split\n",
    "\n",
    "x_train_new, x_test_new,y_train_new, y_test_new = train_test_split(X,y, test_size=0.2, random_state=42)\n",
    "x_train_new.head()"
   ]
  },
  {
   "cell_type": "code",
   "execution_count": 32,
   "id": "06c0c790-b5bd-4e0f-8422-ce644203ff1e",
   "metadata": {},
   "outputs": [
    {
     "data": {
      "text/html": [
       "<div>\n",
       "<style scoped>\n",
       "    .dataframe tbody tr th:only-of-type {\n",
       "        vertical-align: middle;\n",
       "    }\n",
       "\n",
       "    .dataframe tbody tr th {\n",
       "        vertical-align: top;\n",
       "    }\n",
       "\n",
       "    .dataframe thead th {\n",
       "        text-align: right;\n",
       "    }\n",
       "</style>\n",
       "<table border=\"1\" class=\"dataframe\">\n",
       "  <thead>\n",
       "    <tr style=\"text-align: right;\">\n",
       "      <th></th>\n",
       "      <th>id</th>\n",
       "      <th>person_age</th>\n",
       "      <th>person_income</th>\n",
       "      <th>person_home_ownership</th>\n",
       "      <th>person_emp_length</th>\n",
       "      <th>loan_intent</th>\n",
       "      <th>loan_grade</th>\n",
       "      <th>loan_amnt</th>\n",
       "      <th>loan_int_rate</th>\n",
       "      <th>loan_percent_income</th>\n",
       "      <th>cb_person_default_on_file</th>\n",
       "      <th>cb_person_cred_hist_length</th>\n",
       "    </tr>\n",
       "  </thead>\n",
       "  <tbody>\n",
       "    <tr>\n",
       "      <th>4657</th>\n",
       "      <td>4657</td>\n",
       "      <td>23</td>\n",
       "      <td>40000</td>\n",
       "      <td>0</td>\n",
       "      <td>0.0</td>\n",
       "      <td>2</td>\n",
       "      <td>1</td>\n",
       "      <td>3700</td>\n",
       "      <td>8.00</td>\n",
       "      <td>0.09</td>\n",
       "      <td>0</td>\n",
       "      <td>4</td>\n",
       "    </tr>\n",
       "    <tr>\n",
       "      <th>56440</th>\n",
       "      <td>56440</td>\n",
       "      <td>25</td>\n",
       "      <td>60000</td>\n",
       "      <td>2</td>\n",
       "      <td>9.0</td>\n",
       "      <td>6</td>\n",
       "      <td>1</td>\n",
       "      <td>5000</td>\n",
       "      <td>8.59</td>\n",
       "      <td>0.08</td>\n",
       "      <td>0</td>\n",
       "      <td>4</td>\n",
       "    </tr>\n",
       "    <tr>\n",
       "      <th>42117</th>\n",
       "      <td>42117</td>\n",
       "      <td>32</td>\n",
       "      <td>66300</td>\n",
       "      <td>0</td>\n",
       "      <td>0.0</td>\n",
       "      <td>2</td>\n",
       "      <td>2</td>\n",
       "      <td>20000</td>\n",
       "      <td>12.53</td>\n",
       "      <td>0.26</td>\n",
       "      <td>0</td>\n",
       "      <td>6</td>\n",
       "    </tr>\n",
       "    <tr>\n",
       "      <th>10849</th>\n",
       "      <td>10849</td>\n",
       "      <td>22</td>\n",
       "      <td>30000</td>\n",
       "      <td>0</td>\n",
       "      <td>0.0</td>\n",
       "      <td>5</td>\n",
       "      <td>2</td>\n",
       "      <td>5000</td>\n",
       "      <td>10.59</td>\n",
       "      <td>0.17</td>\n",
       "      <td>0</td>\n",
       "      <td>2</td>\n",
       "    </tr>\n",
       "    <tr>\n",
       "      <th>39395</th>\n",
       "      <td>39395</td>\n",
       "      <td>27</td>\n",
       "      <td>60000</td>\n",
       "      <td>0</td>\n",
       "      <td>1.0</td>\n",
       "      <td>2</td>\n",
       "      <td>2</td>\n",
       "      <td>7000</td>\n",
       "      <td>12.21</td>\n",
       "      <td>0.12</td>\n",
       "      <td>0</td>\n",
       "      <td>10</td>\n",
       "    </tr>\n",
       "  </tbody>\n",
       "</table>\n",
       "</div>"
      ],
      "text/plain": [
       "          id  person_age  person_income  person_home_ownership  \\\n",
       "4657    4657          23          40000                      0   \n",
       "56440  56440          25          60000                      2   \n",
       "42117  42117          32          66300                      0   \n",
       "10849  10849          22          30000                      0   \n",
       "39395  39395          27          60000                      0   \n",
       "\n",
       "       person_emp_length  loan_intent  loan_grade  loan_amnt  loan_int_rate  \\\n",
       "4657                 0.0            2           1       3700           8.00   \n",
       "56440                9.0            6           1       5000           8.59   \n",
       "42117                0.0            2           2      20000          12.53   \n",
       "10849                0.0            5           2       5000          10.59   \n",
       "39395                1.0            2           2       7000          12.21   \n",
       "\n",
       "       loan_percent_income  cb_person_default_on_file  \\\n",
       "4657                  0.09                          0   \n",
       "56440                 0.08                          0   \n",
       "42117                 0.26                          0   \n",
       "10849                 0.17                          0   \n",
       "39395                 0.12                          0   \n",
       "\n",
       "       cb_person_cred_hist_length  \n",
       "4657                            4  \n",
       "56440                           4  \n",
       "42117                           6  \n",
       "10849                           2  \n",
       "39395                          10  "
      ]
     },
     "execution_count": 32,
     "metadata": {},
     "output_type": "execute_result"
    }
   ],
   "source": [
    "x_test_new.head()"
   ]
  },
  {
   "cell_type": "markdown",
   "id": "9c45608f-7476-4d9a-9003-4f4c0e191fb0",
   "metadata": {},
   "source": [
    "## Model Selection"
   ]
  },
  {
   "cell_type": "code",
   "execution_count": null,
   "id": "5393661b-6647-4f22-ad1b-5024aff1937d",
   "metadata": {},
   "outputs": [],
   "source": [
    "## DecisionTreeClassifier"
   ]
  },
  {
   "cell_type": "code",
   "execution_count": 33,
   "id": "f6f6f39a-2f6a-48b7-aafc-2e6dce443296",
   "metadata": {},
   "outputs": [
    {
     "data": {
      "text/html": [
       "<style>#sk-container-id-1 {color: black;}#sk-container-id-1 pre{padding: 0;}#sk-container-id-1 div.sk-toggleable {background-color: white;}#sk-container-id-1 label.sk-toggleable__label {cursor: pointer;display: block;width: 100%;margin-bottom: 0;padding: 0.3em;box-sizing: border-box;text-align: center;}#sk-container-id-1 label.sk-toggleable__label-arrow:before {content: \"▸\";float: left;margin-right: 0.25em;color: #696969;}#sk-container-id-1 label.sk-toggleable__label-arrow:hover:before {color: black;}#sk-container-id-1 div.sk-estimator:hover label.sk-toggleable__label-arrow:before {color: black;}#sk-container-id-1 div.sk-toggleable__content {max-height: 0;max-width: 0;overflow: hidden;text-align: left;background-color: #f0f8ff;}#sk-container-id-1 div.sk-toggleable__content pre {margin: 0.2em;color: black;border-radius: 0.25em;background-color: #f0f8ff;}#sk-container-id-1 input.sk-toggleable__control:checked~div.sk-toggleable__content {max-height: 200px;max-width: 100%;overflow: auto;}#sk-container-id-1 input.sk-toggleable__control:checked~label.sk-toggleable__label-arrow:before {content: \"▾\";}#sk-container-id-1 div.sk-estimator input.sk-toggleable__control:checked~label.sk-toggleable__label {background-color: #d4ebff;}#sk-container-id-1 div.sk-label input.sk-toggleable__control:checked~label.sk-toggleable__label {background-color: #d4ebff;}#sk-container-id-1 input.sk-hidden--visually {border: 0;clip: rect(1px 1px 1px 1px);clip: rect(1px, 1px, 1px, 1px);height: 1px;margin: -1px;overflow: hidden;padding: 0;position: absolute;width: 1px;}#sk-container-id-1 div.sk-estimator {font-family: monospace;background-color: #f0f8ff;border: 1px dotted black;border-radius: 0.25em;box-sizing: border-box;margin-bottom: 0.5em;}#sk-container-id-1 div.sk-estimator:hover {background-color: #d4ebff;}#sk-container-id-1 div.sk-parallel-item::after {content: \"\";width: 100%;border-bottom: 1px solid gray;flex-grow: 1;}#sk-container-id-1 div.sk-label:hover label.sk-toggleable__label {background-color: #d4ebff;}#sk-container-id-1 div.sk-serial::before {content: \"\";position: absolute;border-left: 1px solid gray;box-sizing: border-box;top: 0;bottom: 0;left: 50%;z-index: 0;}#sk-container-id-1 div.sk-serial {display: flex;flex-direction: column;align-items: center;background-color: white;padding-right: 0.2em;padding-left: 0.2em;position: relative;}#sk-container-id-1 div.sk-item {position: relative;z-index: 1;}#sk-container-id-1 div.sk-parallel {display: flex;align-items: stretch;justify-content: center;background-color: white;position: relative;}#sk-container-id-1 div.sk-item::before, #sk-container-id-1 div.sk-parallel-item::before {content: \"\";position: absolute;border-left: 1px solid gray;box-sizing: border-box;top: 0;bottom: 0;left: 50%;z-index: -1;}#sk-container-id-1 div.sk-parallel-item {display: flex;flex-direction: column;z-index: 1;position: relative;background-color: white;}#sk-container-id-1 div.sk-parallel-item:first-child::after {align-self: flex-end;width: 50%;}#sk-container-id-1 div.sk-parallel-item:last-child::after {align-self: flex-start;width: 50%;}#sk-container-id-1 div.sk-parallel-item:only-child::after {width: 0;}#sk-container-id-1 div.sk-dashed-wrapped {border: 1px dashed gray;margin: 0 0.4em 0.5em 0.4em;box-sizing: border-box;padding-bottom: 0.4em;background-color: white;}#sk-container-id-1 div.sk-label label {font-family: monospace;font-weight: bold;display: inline-block;line-height: 1.2em;}#sk-container-id-1 div.sk-label-container {text-align: center;}#sk-container-id-1 div.sk-container {/* jupyter's `normalize.less` sets `[hidden] { display: none; }` but bootstrap.min.css set `[hidden] { display: none !important; }` so we also need the `!important` here to be able to override the default hidden behavior on the sphinx rendered scikit-learn.org. See: https://github.com/scikit-learn/scikit-learn/issues/21755 */display: inline-block !important;position: relative;}#sk-container-id-1 div.sk-text-repr-fallback {display: none;}</style><div id=\"sk-container-id-1\" class=\"sk-top-container\"><div class=\"sk-text-repr-fallback\"><pre>DecisionTreeClassifier()</pre><b>In a Jupyter environment, please rerun this cell to show the HTML representation or trust the notebook. <br />On GitHub, the HTML representation is unable to render, please try loading this page with nbviewer.org.</b></div><div class=\"sk-container\" hidden><div class=\"sk-item\"><div class=\"sk-estimator sk-toggleable\"><input class=\"sk-toggleable__control sk-hidden--visually\" id=\"sk-estimator-id-1\" type=\"checkbox\" checked><label for=\"sk-estimator-id-1\" class=\"sk-toggleable__label sk-toggleable__label-arrow\">DecisionTreeClassifier</label><div class=\"sk-toggleable__content\"><pre>DecisionTreeClassifier()</pre></div></div></div></div></div>"
      ],
      "text/plain": [
       "DecisionTreeClassifier()"
      ]
     },
     "execution_count": 33,
     "metadata": {},
     "output_type": "execute_result"
    }
   ],
   "source": [
    "from sklearn.tree import DecisionTreeClassifier\n",
    "\n",
    "DTC = DecisionTreeClassifier()\n",
    "DTC.fit(x_train_new,y_train_new)"
   ]
  },
  {
   "cell_type": "code",
   "execution_count": 34,
   "id": "f6b9121e-5b6d-4fe1-9f1c-53d5a48d07c9",
   "metadata": {},
   "outputs": [
    {
     "data": {
      "text/plain": [
       "array([0, 0, 0, ..., 0, 0, 0], dtype=int64)"
      ]
     },
     "execution_count": 34,
     "metadata": {},
     "output_type": "execute_result"
    }
   ],
   "source": [
    "DTC_pred= DTC.predict(x_test_new)\n",
    "DTC_pred"
   ]
  },
  {
   "cell_type": "code",
   "execution_count": 35,
   "id": "d987b70a-a29e-4efa-b95c-0c8aa7c7f7be",
   "metadata": {},
   "outputs": [
    {
     "data": {
      "text/plain": [
       "0.9105635604058318"
      ]
     },
     "execution_count": 35,
     "metadata": {},
     "output_type": "execute_result"
    }
   ],
   "source": [
    "\n",
    "DTC_accuracy = accuracy_score(y_test_new, DTC_pred)\n",
    "DTC_accuracy"
   ]
  },
  {
   "cell_type": "code",
   "execution_count": 36,
   "id": "b0479da4-a0d8-4400-ae58-e1096ef767b8",
   "metadata": {},
   "outputs": [
    {
     "data": {
      "text/plain": [
       "array([[9502,  585],\n",
       "       [ 464, 1178]], dtype=int64)"
      ]
     },
     "execution_count": 36,
     "metadata": {},
     "output_type": "execute_result"
    }
   ],
   "source": [
    "DTC_confusion_matrix = confusion_matrix(y_test_new, DTC_pred)\n",
    "DTC_confusion_matrix"
   ]
  },
  {
   "cell_type": "code",
   "execution_count": 37,
   "id": "f50bd935-01d9-4969-a7fd-198dcd11b8f8",
   "metadata": {},
   "outputs": [
    {
     "name": "stdout",
     "output_type": "stream",
     "text": [
      "              precision    recall  f1-score   support\n",
      "\n",
      "           0       0.95      0.94      0.95     10087\n",
      "           1       0.67      0.72      0.69      1642\n",
      "\n",
      "    accuracy                           0.91     11729\n",
      "   macro avg       0.81      0.83      0.82     11729\n",
      "weighted avg       0.91      0.91      0.91     11729\n",
      "\n"
     ]
    }
   ],
   "source": [
    "DTC_classification_report = classification_report(y_test_new, DTC_pred)\n",
    "print(DTC_classification_report)"
   ]
  },
  {
   "cell_type": "code",
   "execution_count": null,
   "id": "0a6224a0-58f9-4446-9a2f-cf7d7f205f6d",
   "metadata": {},
   "outputs": [],
   "source": [
    "## RandomForestClassifier"
   ]
  },
  {
   "cell_type": "code",
   "execution_count": 38,
   "id": "b394183c-f48e-4203-9880-e35d43032e3f",
   "metadata": {},
   "outputs": [
    {
     "data": {
      "text/html": [
       "<style>#sk-container-id-2 {color: black;}#sk-container-id-2 pre{padding: 0;}#sk-container-id-2 div.sk-toggleable {background-color: white;}#sk-container-id-2 label.sk-toggleable__label {cursor: pointer;display: block;width: 100%;margin-bottom: 0;padding: 0.3em;box-sizing: border-box;text-align: center;}#sk-container-id-2 label.sk-toggleable__label-arrow:before {content: \"▸\";float: left;margin-right: 0.25em;color: #696969;}#sk-container-id-2 label.sk-toggleable__label-arrow:hover:before {color: black;}#sk-container-id-2 div.sk-estimator:hover label.sk-toggleable__label-arrow:before {color: black;}#sk-container-id-2 div.sk-toggleable__content {max-height: 0;max-width: 0;overflow: hidden;text-align: left;background-color: #f0f8ff;}#sk-container-id-2 div.sk-toggleable__content pre {margin: 0.2em;color: black;border-radius: 0.25em;background-color: #f0f8ff;}#sk-container-id-2 input.sk-toggleable__control:checked~div.sk-toggleable__content {max-height: 200px;max-width: 100%;overflow: auto;}#sk-container-id-2 input.sk-toggleable__control:checked~label.sk-toggleable__label-arrow:before {content: \"▾\";}#sk-container-id-2 div.sk-estimator input.sk-toggleable__control:checked~label.sk-toggleable__label {background-color: #d4ebff;}#sk-container-id-2 div.sk-label input.sk-toggleable__control:checked~label.sk-toggleable__label {background-color: #d4ebff;}#sk-container-id-2 input.sk-hidden--visually {border: 0;clip: rect(1px 1px 1px 1px);clip: rect(1px, 1px, 1px, 1px);height: 1px;margin: -1px;overflow: hidden;padding: 0;position: absolute;width: 1px;}#sk-container-id-2 div.sk-estimator {font-family: monospace;background-color: #f0f8ff;border: 1px dotted black;border-radius: 0.25em;box-sizing: border-box;margin-bottom: 0.5em;}#sk-container-id-2 div.sk-estimator:hover {background-color: #d4ebff;}#sk-container-id-2 div.sk-parallel-item::after {content: \"\";width: 100%;border-bottom: 1px solid gray;flex-grow: 1;}#sk-container-id-2 div.sk-label:hover label.sk-toggleable__label {background-color: #d4ebff;}#sk-container-id-2 div.sk-serial::before {content: \"\";position: absolute;border-left: 1px solid gray;box-sizing: border-box;top: 0;bottom: 0;left: 50%;z-index: 0;}#sk-container-id-2 div.sk-serial {display: flex;flex-direction: column;align-items: center;background-color: white;padding-right: 0.2em;padding-left: 0.2em;position: relative;}#sk-container-id-2 div.sk-item {position: relative;z-index: 1;}#sk-container-id-2 div.sk-parallel {display: flex;align-items: stretch;justify-content: center;background-color: white;position: relative;}#sk-container-id-2 div.sk-item::before, #sk-container-id-2 div.sk-parallel-item::before {content: \"\";position: absolute;border-left: 1px solid gray;box-sizing: border-box;top: 0;bottom: 0;left: 50%;z-index: -1;}#sk-container-id-2 div.sk-parallel-item {display: flex;flex-direction: column;z-index: 1;position: relative;background-color: white;}#sk-container-id-2 div.sk-parallel-item:first-child::after {align-self: flex-end;width: 50%;}#sk-container-id-2 div.sk-parallel-item:last-child::after {align-self: flex-start;width: 50%;}#sk-container-id-2 div.sk-parallel-item:only-child::after {width: 0;}#sk-container-id-2 div.sk-dashed-wrapped {border: 1px dashed gray;margin: 0 0.4em 0.5em 0.4em;box-sizing: border-box;padding-bottom: 0.4em;background-color: white;}#sk-container-id-2 div.sk-label label {font-family: monospace;font-weight: bold;display: inline-block;line-height: 1.2em;}#sk-container-id-2 div.sk-label-container {text-align: center;}#sk-container-id-2 div.sk-container {/* jupyter's `normalize.less` sets `[hidden] { display: none; }` but bootstrap.min.css set `[hidden] { display: none !important; }` so we also need the `!important` here to be able to override the default hidden behavior on the sphinx rendered scikit-learn.org. See: https://github.com/scikit-learn/scikit-learn/issues/21755 */display: inline-block !important;position: relative;}#sk-container-id-2 div.sk-text-repr-fallback {display: none;}</style><div id=\"sk-container-id-2\" class=\"sk-top-container\"><div class=\"sk-text-repr-fallback\"><pre>RandomForestClassifier(criterion=&#x27;entropy&#x27;, max_features=30, n_estimators=400)</pre><b>In a Jupyter environment, please rerun this cell to show the HTML representation or trust the notebook. <br />On GitHub, the HTML representation is unable to render, please try loading this page with nbviewer.org.</b></div><div class=\"sk-container\" hidden><div class=\"sk-item\"><div class=\"sk-estimator sk-toggleable\"><input class=\"sk-toggleable__control sk-hidden--visually\" id=\"sk-estimator-id-2\" type=\"checkbox\" checked><label for=\"sk-estimator-id-2\" class=\"sk-toggleable__label sk-toggleable__label-arrow\">RandomForestClassifier</label><div class=\"sk-toggleable__content\"><pre>RandomForestClassifier(criterion=&#x27;entropy&#x27;, max_features=30, n_estimators=400)</pre></div></div></div></div></div>"
      ],
      "text/plain": [
       "RandomForestClassifier(criterion='entropy', max_features=30, n_estimators=400)"
      ]
     },
     "execution_count": 38,
     "metadata": {},
     "output_type": "execute_result"
    }
   ],
   "source": [
    "from sklearn.ensemble import RandomForestClassifier\n",
    "\n",
    "RFC = RandomForestClassifier(n_estimators=400, criterion=\"entropy\", max_features=30)\n",
    "RFC.fit(x_train_new, y_train_new)"
   ]
  },
  {
   "cell_type": "code",
   "execution_count": 39,
   "id": "76fbe862-6562-4252-a6da-adc5d3e93a33",
   "metadata": {},
   "outputs": [
    {
     "data": {
      "text/plain": [
       "array([0, 0, 0, ..., 0, 0, 0], dtype=int64)"
      ]
     },
     "execution_count": 39,
     "metadata": {},
     "output_type": "execute_result"
    }
   ],
   "source": [
    "RFC_prediction = RFC.predict(x_test_new)\n",
    "RFC_prediction"
   ]
  },
  {
   "cell_type": "code",
   "execution_count": 40,
   "id": "d2ce15fa-2d21-419b-a0f8-5fe5c85e2aeb",
   "metadata": {},
   "outputs": [
    {
     "data": {
      "text/plain": [
       "0.9517435416489044"
      ]
     },
     "execution_count": 40,
     "metadata": {},
     "output_type": "execute_result"
    }
   ],
   "source": [
    "RFC_accuracy = accuracy_score(y_test_new,RFC_prediction)\n",
    "RFC_accuracy"
   ]
  },
  {
   "cell_type": "code",
   "execution_count": 41,
   "id": "9a262811-f35a-4734-9359-1966db2b90e6",
   "metadata": {},
   "outputs": [
    {
     "data": {
      "text/plain": [
       "array([[9970,  117],\n",
       "       [ 449, 1193]], dtype=int64)"
      ]
     },
     "execution_count": 41,
     "metadata": {},
     "output_type": "execute_result"
    }
   ],
   "source": [
    "RFC_confusion_matrix = confusion_matrix(y_test_new, RFC_prediction)\n",
    "RFC_confusion_matrix"
   ]
  },
  {
   "cell_type": "code",
   "execution_count": 42,
   "id": "6a202df0-a7bb-4dea-a309-e8ac0b5954bb",
   "metadata": {},
   "outputs": [
    {
     "name": "stdout",
     "output_type": "stream",
     "text": [
      "              precision    recall  f1-score   support\n",
      "\n",
      "           0       0.96      0.99      0.97     10087\n",
      "           1       0.91      0.73      0.81      1642\n",
      "\n",
      "    accuracy                           0.95     11729\n",
      "   macro avg       0.93      0.86      0.89     11729\n",
      "weighted avg       0.95      0.95      0.95     11729\n",
      "\n"
     ]
    }
   ],
   "source": [
    "RFC_classification_report = classification_report(y_test_new,RFC_prediction)\n",
    "print(RFC_classification_report)"
   ]
  },
  {
   "cell_type": "code",
   "execution_count": null,
   "id": "939718e0-eccd-4a10-96c4-1a94bfefb83d",
   "metadata": {},
   "outputs": [],
   "source": [
    "## Support vector Machione Classifier"
   ]
  },
  {
   "cell_type": "code",
   "execution_count": 43,
   "id": "67d45b9c-1332-48e6-9087-7d5b9cce2ca6",
   "metadata": {},
   "outputs": [
    {
     "data": {
      "text/html": [
       "<style>#sk-container-id-3 {color: black;}#sk-container-id-3 pre{padding: 0;}#sk-container-id-3 div.sk-toggleable {background-color: white;}#sk-container-id-3 label.sk-toggleable__label {cursor: pointer;display: block;width: 100%;margin-bottom: 0;padding: 0.3em;box-sizing: border-box;text-align: center;}#sk-container-id-3 label.sk-toggleable__label-arrow:before {content: \"▸\";float: left;margin-right: 0.25em;color: #696969;}#sk-container-id-3 label.sk-toggleable__label-arrow:hover:before {color: black;}#sk-container-id-3 div.sk-estimator:hover label.sk-toggleable__label-arrow:before {color: black;}#sk-container-id-3 div.sk-toggleable__content {max-height: 0;max-width: 0;overflow: hidden;text-align: left;background-color: #f0f8ff;}#sk-container-id-3 div.sk-toggleable__content pre {margin: 0.2em;color: black;border-radius: 0.25em;background-color: #f0f8ff;}#sk-container-id-3 input.sk-toggleable__control:checked~div.sk-toggleable__content {max-height: 200px;max-width: 100%;overflow: auto;}#sk-container-id-3 input.sk-toggleable__control:checked~label.sk-toggleable__label-arrow:before {content: \"▾\";}#sk-container-id-3 div.sk-estimator input.sk-toggleable__control:checked~label.sk-toggleable__label {background-color: #d4ebff;}#sk-container-id-3 div.sk-label input.sk-toggleable__control:checked~label.sk-toggleable__label {background-color: #d4ebff;}#sk-container-id-3 input.sk-hidden--visually {border: 0;clip: rect(1px 1px 1px 1px);clip: rect(1px, 1px, 1px, 1px);height: 1px;margin: -1px;overflow: hidden;padding: 0;position: absolute;width: 1px;}#sk-container-id-3 div.sk-estimator {font-family: monospace;background-color: #f0f8ff;border: 1px dotted black;border-radius: 0.25em;box-sizing: border-box;margin-bottom: 0.5em;}#sk-container-id-3 div.sk-estimator:hover {background-color: #d4ebff;}#sk-container-id-3 div.sk-parallel-item::after {content: \"\";width: 100%;border-bottom: 1px solid gray;flex-grow: 1;}#sk-container-id-3 div.sk-label:hover label.sk-toggleable__label {background-color: #d4ebff;}#sk-container-id-3 div.sk-serial::before {content: \"\";position: absolute;border-left: 1px solid gray;box-sizing: border-box;top: 0;bottom: 0;left: 50%;z-index: 0;}#sk-container-id-3 div.sk-serial {display: flex;flex-direction: column;align-items: center;background-color: white;padding-right: 0.2em;padding-left: 0.2em;position: relative;}#sk-container-id-3 div.sk-item {position: relative;z-index: 1;}#sk-container-id-3 div.sk-parallel {display: flex;align-items: stretch;justify-content: center;background-color: white;position: relative;}#sk-container-id-3 div.sk-item::before, #sk-container-id-3 div.sk-parallel-item::before {content: \"\";position: absolute;border-left: 1px solid gray;box-sizing: border-box;top: 0;bottom: 0;left: 50%;z-index: -1;}#sk-container-id-3 div.sk-parallel-item {display: flex;flex-direction: column;z-index: 1;position: relative;background-color: white;}#sk-container-id-3 div.sk-parallel-item:first-child::after {align-self: flex-end;width: 50%;}#sk-container-id-3 div.sk-parallel-item:last-child::after {align-self: flex-start;width: 50%;}#sk-container-id-3 div.sk-parallel-item:only-child::after {width: 0;}#sk-container-id-3 div.sk-dashed-wrapped {border: 1px dashed gray;margin: 0 0.4em 0.5em 0.4em;box-sizing: border-box;padding-bottom: 0.4em;background-color: white;}#sk-container-id-3 div.sk-label label {font-family: monospace;font-weight: bold;display: inline-block;line-height: 1.2em;}#sk-container-id-3 div.sk-label-container {text-align: center;}#sk-container-id-3 div.sk-container {/* jupyter's `normalize.less` sets `[hidden] { display: none; }` but bootstrap.min.css set `[hidden] { display: none !important; }` so we also need the `!important` here to be able to override the default hidden behavior on the sphinx rendered scikit-learn.org. See: https://github.com/scikit-learn/scikit-learn/issues/21755 */display: inline-block !important;position: relative;}#sk-container-id-3 div.sk-text-repr-fallback {display: none;}</style><div id=\"sk-container-id-3\" class=\"sk-top-container\"><div class=\"sk-text-repr-fallback\"><pre>SVC()</pre><b>In a Jupyter environment, please rerun this cell to show the HTML representation or trust the notebook. <br />On GitHub, the HTML representation is unable to render, please try loading this page with nbviewer.org.</b></div><div class=\"sk-container\" hidden><div class=\"sk-item\"><div class=\"sk-estimator sk-toggleable\"><input class=\"sk-toggleable__control sk-hidden--visually\" id=\"sk-estimator-id-3\" type=\"checkbox\" checked><label for=\"sk-estimator-id-3\" class=\"sk-toggleable__label sk-toggleable__label-arrow\">SVC</label><div class=\"sk-toggleable__content\"><pre>SVC()</pre></div></div></div></div></div>"
      ],
      "text/plain": [
       "SVC()"
      ]
     },
     "execution_count": 43,
     "metadata": {},
     "output_type": "execute_result"
    }
   ],
   "source": [
    "from sklearn.svm import SVC\n",
    "\n",
    "SVC = SVC()\n",
    "SVC.fit(x_train_new, y_train_new)"
   ]
  },
  {
   "cell_type": "code",
   "execution_count": 44,
   "id": "3385755f-ee72-44b0-bd88-c2b0c53bf038",
   "metadata": {},
   "outputs": [
    {
     "data": {
      "text/plain": [
       "array([0, 0, 0, ..., 0, 0, 0], dtype=int64)"
      ]
     },
     "execution_count": 44,
     "metadata": {},
     "output_type": "execute_result"
    }
   ],
   "source": [
    "SVC_predictions = SVC.predict(x_test_new)\n",
    "SVC_predictions"
   ]
  },
  {
   "cell_type": "code",
   "execution_count": 45,
   "id": "f4791d27-4f85-42b6-8b46-03b894b2bf39",
   "metadata": {},
   "outputs": [
    {
     "data": {
      "text/plain": [
       "0.8600051155256203"
      ]
     },
     "execution_count": 45,
     "metadata": {},
     "output_type": "execute_result"
    }
   ],
   "source": [
    "SVC_accuracy= accuracy_score(y_test_new, SVC_predictions)\n",
    "SVC_accuracy"
   ]
  },
  {
   "cell_type": "code",
   "execution_count": 46,
   "id": "0b53c9bf-d9a4-419b-84ec-96b9408daf22",
   "metadata": {},
   "outputs": [
    {
     "data": {
      "text/plain": [
       "array([[10087,     0],\n",
       "       [ 1642,     0]], dtype=int64)"
      ]
     },
     "execution_count": 46,
     "metadata": {},
     "output_type": "execute_result"
    }
   ],
   "source": [
    "SVC_confusion_matrix = confusion_matrix(y_test_new, SVC_predictions)\n",
    "SVC_confusion_matrix"
   ]
  },
  {
   "cell_type": "code",
   "execution_count": 47,
   "id": "b36a5666-c97f-4bb5-98e2-b835ace505b6",
   "metadata": {},
   "outputs": [
    {
     "name": "stdout",
     "output_type": "stream",
     "text": [
      "              precision    recall  f1-score   support\n",
      "\n",
      "           0       0.86      1.00      0.92     10087\n",
      "           1       0.00      0.00      0.00      1642\n",
      "\n",
      "    accuracy                           0.86     11729\n",
      "   macro avg       0.43      0.50      0.46     11729\n",
      "weighted avg       0.74      0.86      0.80     11729\n",
      "\n"
     ]
    },
    {
     "name": "stderr",
     "output_type": "stream",
     "text": [
      "C:\\Users\\THIS PC\\AppData\\Local\\Programs\\Python\\Python312\\Lib\\site-packages\\sklearn\\metrics\\_classification.py:1471: UndefinedMetricWarning: Precision and F-score are ill-defined and being set to 0.0 in labels with no predicted samples. Use `zero_division` parameter to control this behavior.\n",
      "  _warn_prf(average, modifier, msg_start, len(result))\n",
      "C:\\Users\\THIS PC\\AppData\\Local\\Programs\\Python\\Python312\\Lib\\site-packages\\sklearn\\metrics\\_classification.py:1471: UndefinedMetricWarning: Precision and F-score are ill-defined and being set to 0.0 in labels with no predicted samples. Use `zero_division` parameter to control this behavior.\n",
      "  _warn_prf(average, modifier, msg_start, len(result))\n",
      "C:\\Users\\THIS PC\\AppData\\Local\\Programs\\Python\\Python312\\Lib\\site-packages\\sklearn\\metrics\\_classification.py:1471: UndefinedMetricWarning: Precision and F-score are ill-defined and being set to 0.0 in labels with no predicted samples. Use `zero_division` parameter to control this behavior.\n",
      "  _warn_prf(average, modifier, msg_start, len(result))\n"
     ]
    }
   ],
   "source": [
    "SVC_classification_report = classification_report(y_test_new, SVC_predictions)\n",
    "print(SVC_classification_report)"
   ]
  },
  {
   "cell_type": "code",
   "execution_count": 48,
   "id": "77160a7e-77ac-446e-8d75-ea8b07c5d21a",
   "metadata": {},
   "outputs": [
    {
     "data": {
      "text/html": [
       "<style>#sk-container-id-4 {color: black;}#sk-container-id-4 pre{padding: 0;}#sk-container-id-4 div.sk-toggleable {background-color: white;}#sk-container-id-4 label.sk-toggleable__label {cursor: pointer;display: block;width: 100%;margin-bottom: 0;padding: 0.3em;box-sizing: border-box;text-align: center;}#sk-container-id-4 label.sk-toggleable__label-arrow:before {content: \"▸\";float: left;margin-right: 0.25em;color: #696969;}#sk-container-id-4 label.sk-toggleable__label-arrow:hover:before {color: black;}#sk-container-id-4 div.sk-estimator:hover label.sk-toggleable__label-arrow:before {color: black;}#sk-container-id-4 div.sk-toggleable__content {max-height: 0;max-width: 0;overflow: hidden;text-align: left;background-color: #f0f8ff;}#sk-container-id-4 div.sk-toggleable__content pre {margin: 0.2em;color: black;border-radius: 0.25em;background-color: #f0f8ff;}#sk-container-id-4 input.sk-toggleable__control:checked~div.sk-toggleable__content {max-height: 200px;max-width: 100%;overflow: auto;}#sk-container-id-4 input.sk-toggleable__control:checked~label.sk-toggleable__label-arrow:before {content: \"▾\";}#sk-container-id-4 div.sk-estimator input.sk-toggleable__control:checked~label.sk-toggleable__label {background-color: #d4ebff;}#sk-container-id-4 div.sk-label input.sk-toggleable__control:checked~label.sk-toggleable__label {background-color: #d4ebff;}#sk-container-id-4 input.sk-hidden--visually {border: 0;clip: rect(1px 1px 1px 1px);clip: rect(1px, 1px, 1px, 1px);height: 1px;margin: -1px;overflow: hidden;padding: 0;position: absolute;width: 1px;}#sk-container-id-4 div.sk-estimator {font-family: monospace;background-color: #f0f8ff;border: 1px dotted black;border-radius: 0.25em;box-sizing: border-box;margin-bottom: 0.5em;}#sk-container-id-4 div.sk-estimator:hover {background-color: #d4ebff;}#sk-container-id-4 div.sk-parallel-item::after {content: \"\";width: 100%;border-bottom: 1px solid gray;flex-grow: 1;}#sk-container-id-4 div.sk-label:hover label.sk-toggleable__label {background-color: #d4ebff;}#sk-container-id-4 div.sk-serial::before {content: \"\";position: absolute;border-left: 1px solid gray;box-sizing: border-box;top: 0;bottom: 0;left: 50%;z-index: 0;}#sk-container-id-4 div.sk-serial {display: flex;flex-direction: column;align-items: center;background-color: white;padding-right: 0.2em;padding-left: 0.2em;position: relative;}#sk-container-id-4 div.sk-item {position: relative;z-index: 1;}#sk-container-id-4 div.sk-parallel {display: flex;align-items: stretch;justify-content: center;background-color: white;position: relative;}#sk-container-id-4 div.sk-item::before, #sk-container-id-4 div.sk-parallel-item::before {content: \"\";position: absolute;border-left: 1px solid gray;box-sizing: border-box;top: 0;bottom: 0;left: 50%;z-index: -1;}#sk-container-id-4 div.sk-parallel-item {display: flex;flex-direction: column;z-index: 1;position: relative;background-color: white;}#sk-container-id-4 div.sk-parallel-item:first-child::after {align-self: flex-end;width: 50%;}#sk-container-id-4 div.sk-parallel-item:last-child::after {align-self: flex-start;width: 50%;}#sk-container-id-4 div.sk-parallel-item:only-child::after {width: 0;}#sk-container-id-4 div.sk-dashed-wrapped {border: 1px dashed gray;margin: 0 0.4em 0.5em 0.4em;box-sizing: border-box;padding-bottom: 0.4em;background-color: white;}#sk-container-id-4 div.sk-label label {font-family: monospace;font-weight: bold;display: inline-block;line-height: 1.2em;}#sk-container-id-4 div.sk-label-container {text-align: center;}#sk-container-id-4 div.sk-container {/* jupyter's `normalize.less` sets `[hidden] { display: none; }` but bootstrap.min.css set `[hidden] { display: none !important; }` so we also need the `!important` here to be able to override the default hidden behavior on the sphinx rendered scikit-learn.org. See: https://github.com/scikit-learn/scikit-learn/issues/21755 */display: inline-block !important;position: relative;}#sk-container-id-4 div.sk-text-repr-fallback {display: none;}</style><div id=\"sk-container-id-4\" class=\"sk-top-container\"><div class=\"sk-text-repr-fallback\"><pre>KNeighborsClassifier(n_neighbors=200)</pre><b>In a Jupyter environment, please rerun this cell to show the HTML representation or trust the notebook. <br />On GitHub, the HTML representation is unable to render, please try loading this page with nbviewer.org.</b></div><div class=\"sk-container\" hidden><div class=\"sk-item\"><div class=\"sk-estimator sk-toggleable\"><input class=\"sk-toggleable__control sk-hidden--visually\" id=\"sk-estimator-id-4\" type=\"checkbox\" checked><label for=\"sk-estimator-id-4\" class=\"sk-toggleable__label sk-toggleable__label-arrow\">KNeighborsClassifier</label><div class=\"sk-toggleable__content\"><pre>KNeighborsClassifier(n_neighbors=200)</pre></div></div></div></div></div>"
      ],
      "text/plain": [
       "KNeighborsClassifier(n_neighbors=200)"
      ]
     },
     "execution_count": 48,
     "metadata": {},
     "output_type": "execute_result"
    }
   ],
   "source": [
    "from sklearn.neighbors import KNeighborsClassifier\n",
    "\n",
    "kneighbor_model = KNeighborsClassifier(n_neighbors=200)\n",
    "kneighbor_model.fit(x_train_new, y_train_new)"
   ]
  },
  {
   "cell_type": "code",
   "execution_count": 49,
   "id": "96aadc7e-b9dc-46d0-98b0-f540d56a864b",
   "metadata": {},
   "outputs": [
    {
     "data": {
      "text/plain": [
       "array([0, 0, 0, ..., 0, 0, 0], dtype=int64)"
      ]
     },
     "execution_count": 49,
     "metadata": {},
     "output_type": "execute_result"
    }
   ],
   "source": [
    "kneighbor_model_prediction = kneighbor_model.predict(x_test_new)\n",
    "kneighbor_model_prediction"
   ]
  },
  {
   "cell_type": "code",
   "execution_count": 50,
   "id": "52efbf78-b542-4cf5-8a2e-92592aef6447",
   "metadata": {},
   "outputs": [
    {
     "data": {
      "text/plain": [
       "0.8744138460226788"
      ]
     },
     "execution_count": 50,
     "metadata": {},
     "output_type": "execute_result"
    }
   ],
   "source": [
    "kneighbor_model_accuracy = accuracy_score(y_test_new, kneighbor_model_prediction)\n",
    "kneighbor_model_accuracy"
   ]
  },
  {
   "cell_type": "code",
   "execution_count": 51,
   "id": "d5cd8382-afbd-4ac4-bbc1-c64270c7b4dc",
   "metadata": {},
   "outputs": [
    {
     "data": {
      "text/plain": [
       "array([[10002,    85],\n",
       "       [ 1388,   254]], dtype=int64)"
      ]
     },
     "execution_count": 51,
     "metadata": {},
     "output_type": "execute_result"
    }
   ],
   "source": [
    "kneighbor_model_confusion_matrix = confusion_matrix(y_test_new, kneighbor_model_prediction)\n",
    "kneighbor_model_confusion_matrix"
   ]
  },
  {
   "cell_type": "code",
   "execution_count": 52,
   "id": "b7042ad4-84f6-435d-bcfa-14175e82a064",
   "metadata": {},
   "outputs": [
    {
     "name": "stdout",
     "output_type": "stream",
     "text": [
      "              precision    recall  f1-score   support\n",
      "\n",
      "           0       0.88      0.99      0.93     10087\n",
      "           1       0.75      0.15      0.26      1642\n",
      "\n",
      "    accuracy                           0.87     11729\n",
      "   macro avg       0.81      0.57      0.59     11729\n",
      "weighted avg       0.86      0.87      0.84     11729\n",
      "\n"
     ]
    }
   ],
   "source": [
    "kneighbor_model_classification_report = classification_report(y_test_new, kneighbor_model_prediction)\n",
    "print(kneighbor_model_classification_report)"
   ]
  },
  {
   "cell_type": "code",
   "execution_count": 53,
   "id": "6b151a42-db2c-4ffe-81d8-eea0f78c65df",
   "metadata": {},
   "outputs": [
    {
     "data": {
      "text/plain": [
       "0.9105635604058318"
      ]
     },
     "execution_count": 53,
     "metadata": {},
     "output_type": "execute_result"
    }
   ],
   "source": [
    "DTC_accuracy"
   ]
  },
  {
   "cell_type": "code",
   "execution_count": 54,
   "id": "e8e20a62-36b2-4c08-b745-45663bb726d7",
   "metadata": {},
   "outputs": [
    {
     "data": {
      "text/plain": [
       "0.9517435416489044"
      ]
     },
     "execution_count": 54,
     "metadata": {},
     "output_type": "execute_result"
    }
   ],
   "source": [
    "RFC_accuracy"
   ]
  },
  {
   "cell_type": "code",
   "execution_count": 55,
   "id": "c721676a-79f6-482f-87cc-21e1f2f754ad",
   "metadata": {},
   "outputs": [
    {
     "data": {
      "text/plain": [
       "0.8600051155256203"
      ]
     },
     "execution_count": 55,
     "metadata": {},
     "output_type": "execute_result"
    }
   ],
   "source": [
    "SVC_accuracy"
   ]
  },
  {
   "cell_type": "code",
   "execution_count": 56,
   "id": "45100c81-cd7b-46e6-a0aa-4831c2a1df0c",
   "metadata": {},
   "outputs": [
    {
     "data": {
      "text/plain": [
       "0.8744138460226788"
      ]
     },
     "execution_count": 56,
     "metadata": {},
     "output_type": "execute_result"
    }
   ],
   "source": [
    "kneighbor_model_accuracy"
   ]
  },
  {
   "cell_type": "code",
   "execution_count": null,
   "id": "493313e8-371a-4361-aef4-5801c3317b85",
   "metadata": {},
   "outputs": [],
   "source": [
    "## According to the above accuracies of the models random forest classifier is better model"
   ]
  },
  {
   "cell_type": "markdown",
   "id": "2ac465ef-aaaa-4764-baad-6cc46db05c7c",
   "metadata": {},
   "source": [
    "## Explotary Data Analysis For test dataset"
   ]
  },
  {
   "cell_type": "code",
   "execution_count": 57,
   "id": "dd3b9082-df37-4325-b3d0-389e3442d74f",
   "metadata": {},
   "outputs": [
    {
     "data": {
      "text/html": [
       "<div>\n",
       "<style scoped>\n",
       "    .dataframe tbody tr th:only-of-type {\n",
       "        vertical-align: middle;\n",
       "    }\n",
       "\n",
       "    .dataframe tbody tr th {\n",
       "        vertical-align: top;\n",
       "    }\n",
       "\n",
       "    .dataframe thead th {\n",
       "        text-align: right;\n",
       "    }\n",
       "</style>\n",
       "<table border=\"1\" class=\"dataframe\">\n",
       "  <thead>\n",
       "    <tr style=\"text-align: right;\">\n",
       "      <th></th>\n",
       "      <th>id</th>\n",
       "      <th>person_age</th>\n",
       "      <th>person_income</th>\n",
       "      <th>person_home_ownership</th>\n",
       "      <th>person_emp_length</th>\n",
       "      <th>loan_intent</th>\n",
       "      <th>loan_grade</th>\n",
       "      <th>loan_amnt</th>\n",
       "      <th>loan_int_rate</th>\n",
       "      <th>loan_percent_income</th>\n",
       "      <th>cb_person_default_on_file</th>\n",
       "      <th>cb_person_cred_hist_length</th>\n",
       "    </tr>\n",
       "  </thead>\n",
       "  <tbody>\n",
       "    <tr>\n",
       "      <th>0</th>\n",
       "      <td>58645</td>\n",
       "      <td>23</td>\n",
       "      <td>69000</td>\n",
       "      <td>RENT</td>\n",
       "      <td>3.0</td>\n",
       "      <td>HOMEIMPROVEMENT</td>\n",
       "      <td>F</td>\n",
       "      <td>25000</td>\n",
       "      <td>15.76</td>\n",
       "      <td>0.36</td>\n",
       "      <td>N</td>\n",
       "      <td>2</td>\n",
       "    </tr>\n",
       "    <tr>\n",
       "      <th>1</th>\n",
       "      <td>58646</td>\n",
       "      <td>26</td>\n",
       "      <td>96000</td>\n",
       "      <td>MORTGAGE</td>\n",
       "      <td>6.0</td>\n",
       "      <td>PERSONAL</td>\n",
       "      <td>C</td>\n",
       "      <td>10000</td>\n",
       "      <td>12.68</td>\n",
       "      <td>0.10</td>\n",
       "      <td>Y</td>\n",
       "      <td>4</td>\n",
       "    </tr>\n",
       "    <tr>\n",
       "      <th>2</th>\n",
       "      <td>58647</td>\n",
       "      <td>26</td>\n",
       "      <td>30000</td>\n",
       "      <td>RENT</td>\n",
       "      <td>5.0</td>\n",
       "      <td>VENTURE</td>\n",
       "      <td>E</td>\n",
       "      <td>4000</td>\n",
       "      <td>17.19</td>\n",
       "      <td>0.13</td>\n",
       "      <td>Y</td>\n",
       "      <td>2</td>\n",
       "    </tr>\n",
       "    <tr>\n",
       "      <th>3</th>\n",
       "      <td>58648</td>\n",
       "      <td>33</td>\n",
       "      <td>50000</td>\n",
       "      <td>RENT</td>\n",
       "      <td>4.0</td>\n",
       "      <td>DEBTCONSOLIDATION</td>\n",
       "      <td>A</td>\n",
       "      <td>7000</td>\n",
       "      <td>8.90</td>\n",
       "      <td>0.14</td>\n",
       "      <td>N</td>\n",
       "      <td>7</td>\n",
       "    </tr>\n",
       "    <tr>\n",
       "      <th>4</th>\n",
       "      <td>58649</td>\n",
       "      <td>26</td>\n",
       "      <td>102000</td>\n",
       "      <td>MORTGAGE</td>\n",
       "      <td>8.0</td>\n",
       "      <td>HOMEIMPROVEMENT</td>\n",
       "      <td>D</td>\n",
       "      <td>15000</td>\n",
       "      <td>16.32</td>\n",
       "      <td>0.15</td>\n",
       "      <td>Y</td>\n",
       "      <td>4</td>\n",
       "    </tr>\n",
       "  </tbody>\n",
       "</table>\n",
       "</div>"
      ],
      "text/plain": [
       "      id  person_age  person_income person_home_ownership  person_emp_length  \\\n",
       "0  58645          23          69000                  RENT                3.0   \n",
       "1  58646          26          96000              MORTGAGE                6.0   \n",
       "2  58647          26          30000                  RENT                5.0   \n",
       "3  58648          33          50000                  RENT                4.0   \n",
       "4  58649          26         102000              MORTGAGE                8.0   \n",
       "\n",
       "         loan_intent loan_grade  loan_amnt  loan_int_rate  \\\n",
       "0    HOMEIMPROVEMENT          F      25000          15.76   \n",
       "1           PERSONAL          C      10000          12.68   \n",
       "2            VENTURE          E       4000          17.19   \n",
       "3  DEBTCONSOLIDATION          A       7000           8.90   \n",
       "4    HOMEIMPROVEMENT          D      15000          16.32   \n",
       "\n",
       "   loan_percent_income cb_person_default_on_file  cb_person_cred_hist_length  \n",
       "0                 0.36                         N                           2  \n",
       "1                 0.10                         Y                           4  \n",
       "2                 0.13                         Y                           2  \n",
       "3                 0.14                         N                           7  \n",
       "4                 0.15                         Y                           4  "
      ]
     },
     "execution_count": 57,
     "metadata": {},
     "output_type": "execute_result"
    }
   ],
   "source": [
    "test_data_set.head()"
   ]
  },
  {
   "cell_type": "code",
   "execution_count": null,
   "id": "e614262a-e574-4ea8-bedb-72329a2f9a3c",
   "metadata": {},
   "outputs": [],
   "source": [
    "## data preprocessing and cleaning part"
   ]
  },
  {
   "cell_type": "code",
   "execution_count": 58,
   "id": "38320db9-e4e2-44ea-a83f-5d7d72bfe2b3",
   "metadata": {},
   "outputs": [
    {
     "name": "stdout",
     "output_type": "stream",
     "text": [
      "<class 'pandas.core.frame.DataFrame'>\n",
      "RangeIndex: 39098 entries, 0 to 39097\n",
      "Data columns (total 12 columns):\n",
      " #   Column                      Non-Null Count  Dtype  \n",
      "---  ------                      --------------  -----  \n",
      " 0   id                          39098 non-null  int64  \n",
      " 1   person_age                  39098 non-null  int64  \n",
      " 2   person_income               39098 non-null  int64  \n",
      " 3   person_home_ownership       39098 non-null  object \n",
      " 4   person_emp_length           39098 non-null  float64\n",
      " 5   loan_intent                 39098 non-null  object \n",
      " 6   loan_grade                  39098 non-null  object \n",
      " 7   loan_amnt                   39098 non-null  int64  \n",
      " 8   loan_int_rate               39098 non-null  float64\n",
      " 9   loan_percent_income         39098 non-null  float64\n",
      " 10  cb_person_default_on_file   39098 non-null  object \n",
      " 11  cb_person_cred_hist_length  39098 non-null  int64  \n",
      "dtypes: float64(3), int64(5), object(4)\n",
      "memory usage: 3.6+ MB\n"
     ]
    }
   ],
   "source": [
    "test_data_set.info()"
   ]
  },
  {
   "cell_type": "code",
   "execution_count": 60,
   "id": "e7ad2712-34e5-4914-aab2-7d7a330d3ff6",
   "metadata": {},
   "outputs": [
    {
     "data": {
      "text/html": [
       "<div>\n",
       "<style scoped>\n",
       "    .dataframe tbody tr th:only-of-type {\n",
       "        vertical-align: middle;\n",
       "    }\n",
       "\n",
       "    .dataframe tbody tr th {\n",
       "        vertical-align: top;\n",
       "    }\n",
       "\n",
       "    .dataframe thead th {\n",
       "        text-align: right;\n",
       "    }\n",
       "</style>\n",
       "<table border=\"1\" class=\"dataframe\">\n",
       "  <thead>\n",
       "    <tr style=\"text-align: right;\">\n",
       "      <th></th>\n",
       "      <th>id</th>\n",
       "      <th>person_age</th>\n",
       "      <th>person_income</th>\n",
       "      <th>person_home_ownership</th>\n",
       "      <th>person_emp_length</th>\n",
       "      <th>loan_intent</th>\n",
       "      <th>loan_grade</th>\n",
       "      <th>loan_amnt</th>\n",
       "      <th>loan_int_rate</th>\n",
       "      <th>loan_percent_income</th>\n",
       "      <th>cb_person_default_on_file</th>\n",
       "      <th>cb_person_cred_hist_length</th>\n",
       "    </tr>\n",
       "  </thead>\n",
       "  <tbody>\n",
       "    <tr>\n",
       "      <th>0</th>\n",
       "      <td>58645</td>\n",
       "      <td>23</td>\n",
       "      <td>69000</td>\n",
       "      <td>0</td>\n",
       "      <td>3.0</td>\n",
       "      <td>6</td>\n",
       "      <td>6</td>\n",
       "      <td>25000</td>\n",
       "      <td>15.76</td>\n",
       "      <td>0.36</td>\n",
       "      <td>0</td>\n",
       "      <td>2</td>\n",
       "    </tr>\n",
       "    <tr>\n",
       "      <th>1</th>\n",
       "      <td>58646</td>\n",
       "      <td>26</td>\n",
       "      <td>96000</td>\n",
       "      <td>2</td>\n",
       "      <td>6.0</td>\n",
       "      <td>3</td>\n",
       "      <td>3</td>\n",
       "      <td>10000</td>\n",
       "      <td>12.68</td>\n",
       "      <td>0.10</td>\n",
       "      <td>1</td>\n",
       "      <td>4</td>\n",
       "    </tr>\n",
       "    <tr>\n",
       "      <th>2</th>\n",
       "      <td>58647</td>\n",
       "      <td>26</td>\n",
       "      <td>30000</td>\n",
       "      <td>0</td>\n",
       "      <td>5.0</td>\n",
       "      <td>4</td>\n",
       "      <td>5</td>\n",
       "      <td>4000</td>\n",
       "      <td>17.19</td>\n",
       "      <td>0.13</td>\n",
       "      <td>1</td>\n",
       "      <td>2</td>\n",
       "    </tr>\n",
       "    <tr>\n",
       "      <th>3</th>\n",
       "      <td>58648</td>\n",
       "      <td>33</td>\n",
       "      <td>50000</td>\n",
       "      <td>0</td>\n",
       "      <td>4.0</td>\n",
       "      <td>5</td>\n",
       "      <td>1</td>\n",
       "      <td>7000</td>\n",
       "      <td>8.90</td>\n",
       "      <td>0.14</td>\n",
       "      <td>0</td>\n",
       "      <td>7</td>\n",
       "    </tr>\n",
       "    <tr>\n",
       "      <th>4</th>\n",
       "      <td>58649</td>\n",
       "      <td>26</td>\n",
       "      <td>102000</td>\n",
       "      <td>2</td>\n",
       "      <td>8.0</td>\n",
       "      <td>6</td>\n",
       "      <td>4</td>\n",
       "      <td>15000</td>\n",
       "      <td>16.32</td>\n",
       "      <td>0.15</td>\n",
       "      <td>1</td>\n",
       "      <td>4</td>\n",
       "    </tr>\n",
       "  </tbody>\n",
       "</table>\n",
       "</div>"
      ],
      "text/plain": [
       "      id  person_age  person_income  person_home_ownership  person_emp_length  \\\n",
       "0  58645          23          69000                      0                3.0   \n",
       "1  58646          26          96000                      2                6.0   \n",
       "2  58647          26          30000                      0                5.0   \n",
       "3  58648          33          50000                      0                4.0   \n",
       "4  58649          26         102000                      2                8.0   \n",
       "\n",
       "   loan_intent  loan_grade  loan_amnt  loan_int_rate  loan_percent_income  \\\n",
       "0            6           6      25000          15.76                 0.36   \n",
       "1            3           3      10000          12.68                 0.10   \n",
       "2            4           5       4000          17.19                 0.13   \n",
       "3            5           1       7000           8.90                 0.14   \n",
       "4            6           4      15000          16.32                 0.15   \n",
       "\n",
       "   cb_person_default_on_file  cb_person_cred_hist_length  \n",
       "0                          0                           2  \n",
       "1                          1                           4  \n",
       "2                          1                           2  \n",
       "3                          0                           7  \n",
       "4                          1                           4  "
      ]
     },
     "execution_count": 60,
     "metadata": {},
     "output_type": "execute_result"
    }
   ],
   "source": [
    "test_data_set_new=test_data_set.replace({'person_home_ownership' :{'RENT':0, 'MORTGAGE':2, 'OWN':3,'OTHER':4}, \n",
    "                   'loan_intent':{'EDUCATION':1, 'MEDICAL':2,'PERSONAL':3, 'VENTURE':4,'DEBTCONSOLIDATION':5, 'HOMEIMPROVEMENT':6},\n",
    "                   'loan_grade':{'A':1,'B':2,'C':3,'D':4,'E':5,'F':6,'G':7}, 'cb_person_default_on_file':{'N':0,'Y':1}})\n",
    "test_data_set_new.head()"
   ]
  },
  {
   "cell_type": "code",
   "execution_count": 64,
   "id": "2b905ce7-4f90-4181-ae04-153597b1d081",
   "metadata": {},
   "outputs": [
    {
     "name": "stdout",
     "output_type": "stream",
     "text": [
      "<class 'pandas.core.frame.DataFrame'>\n",
      "RangeIndex: 39098 entries, 0 to 39097\n",
      "Data columns (total 12 columns):\n",
      " #   Column                      Non-Null Count  Dtype  \n",
      "---  ------                      --------------  -----  \n",
      " 0   id                          39098 non-null  int64  \n",
      " 1   person_age                  39098 non-null  int64  \n",
      " 2   person_income               39098 non-null  int64  \n",
      " 3   person_home_ownership       39098 non-null  int64  \n",
      " 4   person_emp_length           39098 non-null  float64\n",
      " 5   loan_intent                 39098 non-null  int64  \n",
      " 6   loan_grade                  39098 non-null  int64  \n",
      " 7   loan_amnt                   39098 non-null  int64  \n",
      " 8   loan_int_rate               39098 non-null  float64\n",
      " 9   loan_percent_income         39098 non-null  float64\n",
      " 10  cb_person_default_on_file   39098 non-null  int64  \n",
      " 11  cb_person_cred_hist_length  39098 non-null  int64  \n",
      "dtypes: float64(3), int64(9)\n",
      "memory usage: 3.6 MB\n"
     ]
    }
   ],
   "source": [
    "test_data_set_new.info()"
   ]
  },
  {
   "cell_type": "code",
   "execution_count": null,
   "id": "fca29775-b57b-435f-bfa6-c1d2507c091b",
   "metadata": {},
   "outputs": [],
   "source": [
    "## Making the predictions using test set"
   ]
  },
  {
   "cell_type": "code",
   "execution_count": 78,
   "id": "a9cb78e5-a0b6-4b91-bb72-8c8f5071d92e",
   "metadata": {},
   "outputs": [
    {
     "name": "stdout",
     "output_type": "stream",
     "text": [
      "Loan is approved\n"
     ]
    },
    {
     "name": "stderr",
     "output_type": "stream",
     "text": [
      "C:\\Users\\THIS PC\\AppData\\Local\\Programs\\Python\\Python312\\Lib\\site-packages\\sklearn\\base.py:465: UserWarning: X does not have valid feature names, but RandomForestClassifier was fitted with feature names\n",
      "  warnings.warn(\n"
     ]
    }
   ],
   "source": [
    "#\tid\tperson_age\tperson_income\tperson_home_ownership\tperson_emp_length\tloan_intent\tloan_grade\tloan_amnt\tloan_int_rate\tloan_percent_income\tcb_person_default_on_file\tcb_person_cred_hist_length\n",
    "#\t0\t37\t35000\tRENT\t0.0\tEDUCATION\tB\t6000\t11.49\t0.17\tN\t14\n",
    "# \tid\tperson_age\tperson_income\tperson_home_ownership\tperson_emp_length\tloan_intent\tloan_grade\tloan_amnt\tloan_int_rate\tloan_percent_income\tcb_person_default_on_file\tcb_person_cred_hist_length\tloan_status\n",
    "# \t0\t37\t35000\tRENT\t0.0\tEDUCATION\tB\t6000\t11.49\t0.17\tN\t14\t\n",
    "\n",
    "#\tid\tperson_age\tperson_income\tperson_home_ownership\tperson_emp_length\tloan_intent\tloan_grade\tloan_amnt\tloan_int_rate\tloan_percent_income\tcb_person_default_on_file\tcb_person_cred_hist_length\tloan_status\n",
    "#\t10\t30\t78000\tMORTGAGE\t5.0\tVENTURE\tB\t12800\t10.59\t0.17\tN\t5\t\n",
    "#person_age\tperson_income\tperson_home_ownership\tperson_emp_length\tloan_intent\tloan_grade\tloan_amnt\tloan_int_rate\tloan_percent_income\tcb_person_default_on_file\tcb_person_cred_hist_length\tloan_status\n",
    "#\t31\t75000\tMORTGAGE\t2.0\tVENTURE\tB\t15000\t11.11\t0.2\tN\t5\t0\n",
    "\n",
    "#  id\tperson_age\tperson_income\tperson_home_ownership\tperson_emp_length\tloan_intent\tloan_grade\tloan_amnt\tloan_int_rate\tloan_percent_income\tcb_person_default_on_file\tcb_person_cred_hist_length\n",
    "# 58645\t23\t69000\tRENT\t3.0\tHOMEIMPROVEMENT\tF\t25000\t15.76\t0.36\tN\t\n",
    "\n",
    "# id\tperson_age\tperson_income\tperson_home_ownership\tperson_emp_length\tloan_intent\tloan_grade\tloan_amnt\tloan_int_rate\tloan_percent_income\tcb_person_default_on_file\tcb_person_cred_hist_length\tloan_status\n",
    "# 58644\t31\t75000\tMORTGAGE\t2.0\tVENTURE\tB\t15000\t11.11\t0.2\tN\t5\t\n",
    "\n",
    "# id\tperson_age\tperson_income\tperson_home_ownership\tperson_emp_length\tloan_intent\tloan_grade\tloan_amnt\tloan_int_rate\tloan_percent_income\tcb_person_default_on_file\tcb_person_cred_hist_length\tloan_status\n",
    "# 58641\t28\t28800\tRENT\t0.0\tMEDICAL\tC\t10000\t12.73\t0.35\tN\t8\t\n",
    "\n",
    "sample_data = [[58641,28,28800,0,0.0,2,3,1000,12.73,0.35,0,8]]\n",
    "\n",
    "predictions  = RFC.predict(sample_data)\n",
    "if predictions[0] ==0:\n",
    "    print(\"Loan is not approved\")\n",
    "else:\n",
    "    print(\"Loan is approved\")"
   ]
  },
  {
   "cell_type": "code",
   "execution_count": 67,
   "id": "6cb81646-48c7-4cee-b749-f63eddfaecc5",
   "metadata": {},
   "outputs": [
    {
     "data": {
      "text/plain": [
       "array([[0.02  , 0.98  ],\n",
       "       [0.9575, 0.0425],\n",
       "       [0.4825, 0.5175],\n",
       "       ...,\n",
       "       [0.9775, 0.0225],\n",
       "       [0.8175, 0.1825],\n",
       "       [0.0725, 0.9275]])"
      ]
     },
     "execution_count": 67,
     "metadata": {},
     "output_type": "execute_result"
    }
   ],
   "source": [
    "prediction = RFC.predict_proba(test_data_set_new)\n",
    "prediction"
   ]
  },
  {
   "cell_type": "code",
   "execution_count": null,
   "id": "158101c8-afa1-41f8-8294-3fecd5e088fb",
   "metadata": {},
   "outputs": [],
   "source": [
    "## store the  id for later use"
   ]
  },
  {
   "cell_type": "code",
   "execution_count": 69,
   "id": "17bf8ea2-cb5e-411e-abca-c182531ea700",
   "metadata": {},
   "outputs": [],
   "source": [
    "id  = test_data_set_new[\"id\"]"
   ]
  },
  {
   "cell_type": "code",
   "execution_count": 79,
   "id": "3d7c963b-c079-4860-865e-b404d9df5b61",
   "metadata": {},
   "outputs": [],
   "source": [
    "import pandas as pd\n",
    "\n",
    "# Get predicted probabilities\n",
    "prediction = RFC.predict(test_data_set_new)\n",
    "\n",
    "# Create the submission DataFrame\n",
    "submission = pd.DataFrame({\n",
    "    'id': id,  \n",
    "    'loan_Status': prediction  \n",
    "})\n",
    "\n",
    "# Save the DataFrame to a CSV file\n",
    "submission.to_csv('submission.csv', index=False)\n"
   ]
  },
  {
   "cell_type": "code",
   "execution_count": 80,
   "id": "b5556819-baaf-4b39-bf17-e794615faeb5",
   "metadata": {},
   "outputs": [
    {
     "data": {
      "text/html": [
       "<div>\n",
       "<style scoped>\n",
       "    .dataframe tbody tr th:only-of-type {\n",
       "        vertical-align: middle;\n",
       "    }\n",
       "\n",
       "    .dataframe tbody tr th {\n",
       "        vertical-align: top;\n",
       "    }\n",
       "\n",
       "    .dataframe thead th {\n",
       "        text-align: right;\n",
       "    }\n",
       "</style>\n",
       "<table border=\"1\" class=\"dataframe\">\n",
       "  <thead>\n",
       "    <tr style=\"text-align: right;\">\n",
       "      <th></th>\n",
       "      <th>id</th>\n",
       "      <th>loan_Status</th>\n",
       "    </tr>\n",
       "  </thead>\n",
       "  <tbody>\n",
       "    <tr>\n",
       "      <th>0</th>\n",
       "      <td>58645</td>\n",
       "      <td>1</td>\n",
       "    </tr>\n",
       "    <tr>\n",
       "      <th>1</th>\n",
       "      <td>58646</td>\n",
       "      <td>0</td>\n",
       "    </tr>\n",
       "    <tr>\n",
       "      <th>2</th>\n",
       "      <td>58647</td>\n",
       "      <td>1</td>\n",
       "    </tr>\n",
       "    <tr>\n",
       "      <th>3</th>\n",
       "      <td>58648</td>\n",
       "      <td>0</td>\n",
       "    </tr>\n",
       "    <tr>\n",
       "      <th>4</th>\n",
       "      <td>58649</td>\n",
       "      <td>0</td>\n",
       "    </tr>\n",
       "    <tr>\n",
       "      <th>...</th>\n",
       "      <td>...</td>\n",
       "      <td>...</td>\n",
       "    </tr>\n",
       "    <tr>\n",
       "      <th>39093</th>\n",
       "      <td>97738</td>\n",
       "      <td>0</td>\n",
       "    </tr>\n",
       "    <tr>\n",
       "      <th>39094</th>\n",
       "      <td>97739</td>\n",
       "      <td>0</td>\n",
       "    </tr>\n",
       "    <tr>\n",
       "      <th>39095</th>\n",
       "      <td>97740</td>\n",
       "      <td>0</td>\n",
       "    </tr>\n",
       "    <tr>\n",
       "      <th>39096</th>\n",
       "      <td>97741</td>\n",
       "      <td>0</td>\n",
       "    </tr>\n",
       "    <tr>\n",
       "      <th>39097</th>\n",
       "      <td>97742</td>\n",
       "      <td>1</td>\n",
       "    </tr>\n",
       "  </tbody>\n",
       "</table>\n",
       "<p>39098 rows × 2 columns</p>\n",
       "</div>"
      ],
      "text/plain": [
       "          id  loan_Status\n",
       "0      58645            1\n",
       "1      58646            0\n",
       "2      58647            1\n",
       "3      58648            0\n",
       "4      58649            0\n",
       "...      ...          ...\n",
       "39093  97738            0\n",
       "39094  97739            0\n",
       "39095  97740            0\n",
       "39096  97741            0\n",
       "39097  97742            1\n",
       "\n",
       "[39098 rows x 2 columns]"
      ]
     },
     "execution_count": 80,
     "metadata": {},
     "output_type": "execute_result"
    }
   ],
   "source": [
    "submission"
   ]
  },
  {
   "cell_type": "code",
   "execution_count": null,
   "id": "eb56bb3b-ea7f-4f27-a5db-4690afd813b3",
   "metadata": {},
   "outputs": [],
   "source": []
  }
 ],
 "metadata": {
  "kernelspec": {
   "display_name": "Python 3 (ipykernel)",
   "language": "python",
   "name": "python3"
  },
  "language_info": {
   "codemirror_mode": {
    "name": "ipython",
    "version": 3
   },
   "file_extension": ".py",
   "mimetype": "text/x-python",
   "name": "python",
   "nbconvert_exporter": "python",
   "pygments_lexer": "ipython3",
   "version": "3.12.1"
  }
 },
 "nbformat": 4,
 "nbformat_minor": 5
}
